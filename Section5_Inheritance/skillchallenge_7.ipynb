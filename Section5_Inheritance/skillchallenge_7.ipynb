{
 "cells": [
  {
   "cell_type": "code",
   "execution_count": 81,
   "metadata": {},
   "outputs": [],
   "source": [
    "class BankAccount:\n",
    "    def __init__(self,initial_balance=0):\n",
    "        self._balance = initial_balance\n",
    "\n",
    "    @property\n",
    "    def balance(self):\n",
    "        return self._balance\n",
    "    \n",
    "    def __repr__(self):\n",
    "        instancename =  \"\".join(t.__name__ for t in type(self).__mro__[:-1])\n",
    "        print(type(self).__mro__[:-1])\n",
    "        return f\"A {instancename} account with {self.balance} in it\"\n",
    "\n",
    "    def deposite(self,amount):\n",
    "        if amount > 0:\n",
    "            self._balance += amount\n",
    "            print(f\"Deposited {amount}$\")\n",
    "            \n",
    "        else:\n",
    "            return \"Your amount is ignored\"\n",
    "    \n",
    "    def withdraw(self,amount):\n",
    "        if 0 < amount <= self.balance:\n",
    "            self._balance -= amount\n",
    "            print(f\"Withdrawl {amount}$\")\n",
    "            \n",
    "        else:\n",
    "            return \"Your amount is ignored\"\n",
    "\n",
    "class SavingsAccount(BankAccount):\n",
    "    interest = 0.003\n",
    "    def pay_interest(self):\n",
    "        new = self.balance * self.interest\n",
    "        self.deposite(new)\n",
    "\n",
    "class HighInterest(SavingsAccount):\n",
    "    interest = 0.007\n",
    "    def __init__(self, initial_balance = 0, withdrawl_fee =5):\n",
    "        super().__init__(initial_balance)\n",
    "        self.withdrawl_fee = withdrawl_fee\n",
    "    \n",
    "    def withdraw(self,amount):\n",
    "        if 0 < amount + self.withdrawl_fee <= self.balance:\n",
    "            self._balance -= self.withdrawl_fee\n",
    "            super().withdraw(amount)\n",
    "            \n",
    "            \n",
    "        else:\n",
    "            return \"Your amount is ignored\"\n",
    "\n",
    "class LockedIn(HighInterest):\n",
    "    interest = 0.009\n",
    "    def withdraw(self,amount):\n",
    "        return \"can't take early withdeawl from a locked in savings account\"\n"
   ]
  },
  {
   "cell_type": "code",
   "execution_count": 82,
   "metadata": {},
   "outputs": [],
   "source": [
    "b = BankAccount(100)"
   ]
  },
  {
   "cell_type": "code",
   "execution_count": 83,
   "metadata": {},
   "outputs": [
    {
     "name": "stdout",
     "output_type": "stream",
     "text": [
      "(<class '__main__.BankAccount'>,)\n"
     ]
    },
    {
     "data": {
      "text/plain": [
       "A BankAccount account with 100 in it"
      ]
     },
     "execution_count": 83,
     "metadata": {},
     "output_type": "execute_result"
    }
   ],
   "source": [
    "b"
   ]
  },
  {
   "cell_type": "code",
   "execution_count": 58,
   "metadata": {},
   "outputs": [
    {
     "name": "stdout",
     "output_type": "stream",
     "text": [
      "Deposited 2$\n"
     ]
    }
   ],
   "source": [
    "b.deposite(2)"
   ]
  },
  {
   "cell_type": "code",
   "execution_count": 59,
   "metadata": {},
   "outputs": [
    {
     "name": "stdout",
     "output_type": "stream",
     "text": [
      "Withdrawl 70$\n"
     ]
    }
   ],
   "source": [
    "b.withdraw(70)"
   ]
  },
  {
   "cell_type": "code",
   "execution_count": 60,
   "metadata": {},
   "outputs": [],
   "source": [
    "s = SavingsAccount(140)"
   ]
  },
  {
   "cell_type": "code",
   "execution_count": 61,
   "metadata": {},
   "outputs": [
    {
     "name": "stdout",
     "output_type": "stream",
     "text": [
      "Deposited 0.42$\n"
     ]
    }
   ],
   "source": [
    "s.pay_interest()"
   ]
  },
  {
   "cell_type": "code",
   "execution_count": 62,
   "metadata": {},
   "outputs": [
    {
     "data": {
      "text/plain": [
       "A BankAccount account with 32 in it"
      ]
     },
     "execution_count": 62,
     "metadata": {},
     "output_type": "execute_result"
    }
   ],
   "source": [
    "b"
   ]
  },
  {
   "cell_type": "code",
   "execution_count": 63,
   "metadata": {},
   "outputs": [
    {
     "name": "stdout",
     "output_type": "stream",
     "text": [
      "Withdrawl 10$\n"
     ]
    }
   ],
   "source": [
    "b.withdraw(10)"
   ]
  },
  {
   "cell_type": "code",
   "execution_count": 64,
   "metadata": {},
   "outputs": [
    {
     "data": {
      "text/plain": [
       "A BankAccount account with 22 in it"
      ]
     },
     "execution_count": 64,
     "metadata": {},
     "output_type": "execute_result"
    }
   ],
   "source": [
    "b"
   ]
  },
  {
   "cell_type": "code",
   "execution_count": 65,
   "metadata": {},
   "outputs": [],
   "source": [
    "h = HighInterest(344)"
   ]
  },
  {
   "cell_type": "code",
   "execution_count": 66,
   "metadata": {},
   "outputs": [
    {
     "name": "stdout",
     "output_type": "stream",
     "text": [
      "Withdrawl 56$\n",
      "Withdrawl 56$\n"
     ]
    }
   ],
   "source": [
    "h.withdraw(56)"
   ]
  },
  {
   "cell_type": "code",
   "execution_count": 67,
   "metadata": {},
   "outputs": [
    {
     "data": {
      "text/plain": [
       "A HighInterestSavingsAccountBankAccount account with 283 in it"
      ]
     },
     "execution_count": 67,
     "metadata": {},
     "output_type": "execute_result"
    }
   ],
   "source": [
    "h"
   ]
  },
  {
   "cell_type": "code",
   "execution_count": 69,
   "metadata": {},
   "outputs": [
    {
     "name": "stdout",
     "output_type": "stream",
     "text": [
      "Deposited 0.42125999999999997$\n"
     ]
    }
   ],
   "source": [
    "s.pay_interest()\n"
   ]
  },
  {
   "cell_type": "code",
   "execution_count": 77,
   "metadata": {},
   "outputs": [
    {
     "name": "stdout",
     "output_type": "stream",
     "text": [
      "Deposited 10000$\n"
     ]
    }
   ],
   "source": [
    "s.deposite(10000)"
   ]
  },
  {
   "cell_type": "code",
   "execution_count": 78,
   "metadata": {},
   "outputs": [
    {
     "data": {
      "text/plain": [
       "A SavingsAccountBankAccount account with 30231.77757513134 in it"
      ]
     },
     "execution_count": 78,
     "metadata": {},
     "output_type": "execute_result"
    }
   ],
   "source": [
    "s"
   ]
  },
  {
   "cell_type": "code",
   "execution_count": 79,
   "metadata": {},
   "outputs": [
    {
     "name": "stdout",
     "output_type": "stream",
     "text": [
      "Deposited 90.69533272539401$\n"
     ]
    }
   ],
   "source": [
    "s.pay_interest()"
   ]
  },
  {
   "cell_type": "code",
   "execution_count": 80,
   "metadata": {},
   "outputs": [
    {
     "data": {
      "text/plain": [
       "A SavingsAccountBankAccount account with 30322.472907856732 in it"
      ]
     },
     "execution_count": 80,
     "metadata": {},
     "output_type": "execute_result"
    }
   ],
   "source": [
    "s"
   ]
  },
  {
   "cell_type": "code",
   "execution_count": null,
   "metadata": {},
   "outputs": [],
   "source": []
  }
 ],
 "metadata": {
  "kernelspec": {
   "display_name": "Python 3",
   "language": "python",
   "name": "python3"
  },
  "language_info": {
   "codemirror_mode": {
    "name": "ipython",
    "version": 3
   },
   "file_extension": ".py",
   "mimetype": "text/x-python",
   "name": "python",
   "nbconvert_exporter": "python",
   "pygments_lexer": "ipython3",
   "version": "3.10.1"
  }
 },
 "nbformat": 4,
 "nbformat_minor": 2
}
