{
 "cells": [
  {
   "cell_type": "code",
   "execution_count": 1,
   "metadata": {},
   "outputs": [],
   "source": [
    "# static collection of values"
   ]
  },
  {
   "cell_type": "code",
   "execution_count": 13,
   "metadata": {},
   "outputs": [],
   "source": [
    "from enum import Enum"
   ]
  },
  {
   "cell_type": "code",
   "execution_count": 14,
   "metadata": {},
   "outputs": [],
   "source": [
    "class Parties(Enum):\n",
    "    CPC = 'Conservative Party of Canada'\n",
    "    LPC = 'Liberal Party of Canada'\n",
    "    BQ = 'Bloc Quebecois'\n",
    "    NDP = 'New Democratic Party'\n",
    "    GBP = 'Green party of Canada'"
   ]
  },
  {
   "cell_type": "code",
   "execution_count": 15,
   "metadata": {},
   "outputs": [
    {
     "data": {
      "text/plain": [
       "<Parties.CPC: 'Conservative Party of Canada'>"
      ]
     },
     "execution_count": 15,
     "metadata": {},
     "output_type": "execute_result"
    }
   ],
   "source": [
    "Parties.CPC"
   ]
  },
  {
   "cell_type": "code",
   "execution_count": 16,
   "metadata": {},
   "outputs": [
    {
     "data": {
      "text/plain": [
       "['CPC', 'LPC', 'BQ', 'NDP', 'GBP']"
      ]
     },
     "execution_count": 16,
     "metadata": {},
     "output_type": "execute_result"
    }
   ],
   "source": [
    "Parties._member_names_"
   ]
  },
  {
   "cell_type": "code",
   "execution_count": 17,
   "metadata": {},
   "outputs": [],
   "source": [
    "class Parties(Enum):\n",
    "    CPC = 'Conservative Party of Canada'\n",
    "    LPC = 'Liberal Party of Canada'\n",
    "    BQ = 'Bloc Quebecois'\n",
    "    NDP = 'New Democratic Party'\n",
    "    GBP = 'Green party of Canada'"
   ]
  },
  {
   "cell_type": "code",
   "execution_count": 9,
   "metadata": {},
   "outputs": [],
   "source": [
    "from enum import unique, Enum , auto, Flag"
   ]
  },
  {
   "cell_type": "code",
   "execution_count": 6,
   "metadata": {},
   "outputs": [
    {
     "ename": "ValueError",
     "evalue": "duplicate values found in <enum 'Parties'>: CPoC -> CPC",
     "output_type": "error",
     "traceback": [
      "\u001b[1;31m---------------------------------------------------------------------------\u001b[0m",
      "\u001b[1;31mValueError\u001b[0m                                Traceback (most recent call last)",
      "Cell \u001b[1;32mIn[6], line 2\u001b[0m\n\u001b[0;32m      1\u001b[0m \u001b[38;5;129;43m@unique\u001b[39;49m\n\u001b[1;32m----> 2\u001b[0m \u001b[38;5;28;43;01mclass\u001b[39;49;00m\u001b[43m \u001b[49m\u001b[38;5;21;43;01mParties\u001b[39;49;00m\u001b[43m(\u001b[49m\u001b[43mEnum\u001b[49m\u001b[43m)\u001b[49m\u001b[43m:\u001b[49m\n\u001b[0;32m      3\u001b[0m \u001b[43m    \u001b[49m\u001b[43mCPC\u001b[49m\u001b[43m \u001b[49m\u001b[38;5;241;43m=\u001b[39;49m\u001b[43m \u001b[49m\u001b[38;5;124;43m'\u001b[39;49m\u001b[38;5;124;43mConservative Party of Canada\u001b[39;49m\u001b[38;5;124;43m'\u001b[39;49m\n\u001b[0;32m      4\u001b[0m \u001b[43m    \u001b[49m\u001b[43mCPoC\u001b[49m\u001b[43m \u001b[49m\u001b[38;5;241;43m=\u001b[39;49m\u001b[43m \u001b[49m\u001b[38;5;124;43m'\u001b[39;49m\u001b[38;5;124;43mConservative Party of Canada\u001b[39;49m\u001b[38;5;124;43m'\u001b[39;49m\n",
      "File \u001b[1;32mc:\\Users\\hadi.khadim\\AppData\\Local\\Programs\\Python\\Python310\\lib\\enum.py:1022\u001b[0m, in \u001b[0;36munique\u001b[1;34m(enumeration)\u001b[0m\n\u001b[0;32m   1019\u001b[0m \u001b[38;5;28;01mif\u001b[39;00m duplicates:\n\u001b[0;32m   1020\u001b[0m     alias_details \u001b[38;5;241m=\u001b[39m \u001b[38;5;124m'\u001b[39m\u001b[38;5;124m, \u001b[39m\u001b[38;5;124m'\u001b[39m\u001b[38;5;241m.\u001b[39mjoin(\n\u001b[0;32m   1021\u001b[0m             [\u001b[38;5;124m\"\u001b[39m\u001b[38;5;132;01m%s\u001b[39;00m\u001b[38;5;124m -> \u001b[39m\u001b[38;5;132;01m%s\u001b[39;00m\u001b[38;5;124m\"\u001b[39m \u001b[38;5;241m%\u001b[39m (alias, name) \u001b[38;5;28;01mfor\u001b[39;00m (alias, name) \u001b[38;5;129;01min\u001b[39;00m duplicates])\n\u001b[1;32m-> 1022\u001b[0m     \u001b[38;5;28;01mraise\u001b[39;00m \u001b[38;5;167;01mValueError\u001b[39;00m(\u001b[38;5;124m'\u001b[39m\u001b[38;5;124mduplicate values found in \u001b[39m\u001b[38;5;132;01m%r\u001b[39;00m\u001b[38;5;124m: \u001b[39m\u001b[38;5;132;01m%s\u001b[39;00m\u001b[38;5;124m'\u001b[39m \u001b[38;5;241m%\u001b[39m\n\u001b[0;32m   1023\u001b[0m             (enumeration, alias_details))\n\u001b[0;32m   1024\u001b[0m \u001b[38;5;28;01mreturn\u001b[39;00m enumeration\n",
      "\u001b[1;31mValueError\u001b[0m: duplicate values found in <enum 'Parties'>: CPoC -> CPC"
     ]
    }
   ],
   "source": [
    "@unique\n",
    "class Parties(Enum):\n",
    "    CPC = 'Conservative Party of Canada'\n",
    "    CPoC = 'Conservative Party of Canada'\n",
    "    LPC = 'Liberal Party of Canada'\n",
    "    BQ = 'Bloc Quebecois'\n",
    "    NDP = 'New Democratic Party'\n",
    "    GBP = 'Green party of Canada'"
   ]
  },
  {
   "cell_type": "code",
   "execution_count": 8,
   "metadata": {},
   "outputs": [],
   "source": [
    "class Parties(Enum):\n",
    "    CPC = auto()\n",
    "    CPoC = auto()\n",
    "    LPC = auto()\n",
    "    BQ = auto()\n",
    "    NDP = auto()\n",
    "    GBP = auto()"
   ]
  },
  {
   "cell_type": "code",
   "execution_count": null,
   "metadata": {},
   "outputs": [],
   "source": [
    " "
   ]
  }
 ],
 "metadata": {
  "kernelspec": {
   "display_name": "Python 3",
   "language": "python",
   "name": "python3"
  },
  "language_info": {
   "codemirror_mode": {
    "name": "ipython",
    "version": 3
   },
   "file_extension": ".py",
   "mimetype": "text/x-python",
   "name": "python",
   "nbconvert_exporter": "python",
   "pygments_lexer": "ipython3",
   "version": "3.10.1"
  }
 },
 "nbformat": 4,
 "nbformat_minor": 2
}
