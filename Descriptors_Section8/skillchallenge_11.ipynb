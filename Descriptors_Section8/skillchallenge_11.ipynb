{
 "cells": [
  {
   "cell_type": "code",
   "execution_count": 22,
   "metadata": {},
   "outputs": [],
   "source": [
    "class GREScore:\n",
    "    def __init__(self, score=130):\n",
    "        self.score = score\n",
    "\n",
    "    def __set_name__(self, owner, name):\n",
    "        self.name = name\n",
    "\n",
    "    def __get__(self, instance, owner):\n",
    "        return instance.__dict__.get(f\"GREScore_{self.name}\")\n",
    "\n",
    "    def __set__(self, instance, value):\n",
    "        if not isinstance(value, int):\n",
    "            raise TypeError(\"GRE score must be an integer.\")\n",
    "        if not 130 <= value <= 340:\n",
    "            raise ValueError(\"GRE score must be between 130 and 340.\")\n",
    "        instance.__dict__[f\"GREScore_{self.name}\"] = value\n",
    "\n",
    "    def __delete__(self, instance):\n",
    "        del instance.__dict__[f\"GREScore_{self.name}\"]"
   ]
  },
  {
   "cell_type": "code",
   "execution_count": 23,
   "metadata": {},
   "outputs": [],
   "source": [
    "class SATScore:\n",
    "    def __init__(self, score=400):\n",
    "        self.score = score\n",
    "\n",
    "    def __set_name__(self, owner, name):\n",
    "        self.name = name\n",
    "\n",
    "    def __get__(self, instance, owner):\n",
    "        return instance.__dict__.get(f\"SATScore_{self.name}\")\n",
    "\n",
    "    def __set__(self, instance, value):\n",
    "        if not isinstance(value, int):\n",
    "            raise TypeError(\"SAT score must be an integer.\")\n",
    "        if not 400 <= value <= 1600:\n",
    "            raise ValueError(\"SAT score must be between 400 and 1600.\")\n",
    "        instance.__dict__[f\"SATScore_{self.name}\"] = value\n",
    "\n",
    "    def __delete__(self, instance):\n",
    "        del instance.__dict__[f\"SATScore_{self.name}\"]"
   ]
  },
  {
   "cell_type": "code",
   "execution_count": 24,
   "metadata": {},
   "outputs": [],
   "source": [
    "class StudentProfile:\n",
    "    sat = SATScore()\n",
    "    gre = GREScore()\n",
    "\n",
    "    def __init__(self, name=None, gre=130, sat=400):\n",
    "        self.name = name\n",
    "        self.gre = gre\n",
    "        self.sat = sat\n",
    "\n",
    "    def __repr__(self):\n",
    "        return f\"StudentProfile(name='{self.name}', gre='{self.gre}', sat='{self.sat}')\""
   ]
  },
  {
   "cell_type": "code",
   "execution_count": 25,
   "metadata": {},
   "outputs": [],
   "source": [
    "sp = StudentProfile('loza',156,690)"
   ]
  },
  {
   "cell_type": "code",
   "execution_count": 26,
   "metadata": {},
   "outputs": [
    {
     "data": {
      "text/plain": [
       "StudentProfile(name='loza', gre='156', sat='690')"
      ]
     },
     "execution_count": 26,
     "metadata": {},
     "output_type": "execute_result"
    }
   ],
   "source": [
    "sp"
   ]
  },
  {
   "cell_type": "code",
   "execution_count": 28,
   "metadata": {},
   "outputs": [],
   "source": [
    "sp = StudentProfile('loza',sat = 690)"
   ]
  },
  {
   "cell_type": "code",
   "execution_count": 29,
   "metadata": {},
   "outputs": [
    {
     "data": {
      "text/plain": [
       "StudentProfile(name='loza', gre='130', sat='690')"
      ]
     },
     "execution_count": 29,
     "metadata": {},
     "output_type": "execute_result"
    }
   ],
   "source": [
    "sp"
   ]
  }
 ],
 "metadata": {
  "kernelspec": {
   "display_name": "Python 3",
   "language": "python",
   "name": "python3"
  },
  "language_info": {
   "codemirror_mode": {
    "name": "ipython",
    "version": 3
   },
   "file_extension": ".py",
   "mimetype": "text/x-python",
   "name": "python",
   "nbconvert_exporter": "python",
   "pygments_lexer": "ipython3",
   "version": "3.10.1"
  }
 },
 "nbformat": 4,
 "nbformat_minor": 2
}
