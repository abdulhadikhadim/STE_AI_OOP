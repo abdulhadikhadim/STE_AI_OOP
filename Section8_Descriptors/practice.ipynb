{
 "cells": [
  {
   "cell_type": "code",
   "execution_count": 2,
   "metadata": {},
   "outputs": [],
   "source": [
    "class Descriptor:\n",
    "\n",
    "    def __get__(self,instance,owner):\n",
    "        pass\n",
    "    def __set__(self,instance,balue):\n",
    "        pass\n",
    "    def __delete__(self,instance):\n",
    "        pass\n"
   ]
  },
  {
   "cell_type": "code",
   "execution_count": 6,
   "metadata": {},
   "outputs": [],
   "source": [
    "class TextField:\n",
    "\n",
    "    def __init__(self,length):\n",
    "        self.length = length\n",
    "\n",
    "    def __get__(self,instance,owner):\n",
    "        return self.value\n",
    "        \n",
    "    def __set__(self,instance,value):\n",
    "        if not type(value) == str:\n",
    "            raise TypeError\n",
    "        \n",
    "        if len(value) > self.length:\n",
    "            raise ValueError\n",
    "        self.value = value\n",
    "    def __delete__(self,instance):\n",
    "        pass\n"
   ]
  },
  {
   "cell_type": "code",
   "execution_count": 7,
   "metadata": {},
   "outputs": [],
   "source": [
    "class PersonTable:\n",
    "    first_name = TextField(200)"
   ]
  },
  {
   "cell_type": "code",
   "execution_count": 8,
   "metadata": {},
   "outputs": [],
   "source": [
    "p = PersonTable()"
   ]
  },
  {
   "cell_type": "code",
   "execution_count": 9,
   "metadata": {},
   "outputs": [],
   "source": [
    "p.first_name = \"a\" *39"
   ]
  },
  {
   "cell_type": "code",
   "execution_count": 10,
   "metadata": {},
   "outputs": [
    {
     "data": {
      "text/plain": [
       "'aaaaaaaaaaaaaaaaaaaaaaaaaaaaaaaaaaaaaaa'"
      ]
     },
     "execution_count": 10,
     "metadata": {},
     "output_type": "execute_result"
    }
   ],
   "source": [
    "p.first_name"
   ]
  },
  {
   "cell_type": "code",
   "execution_count": 19,
   "metadata": {},
   "outputs": [],
   "source": [
    "class TextField:\n",
    "\n",
    "    def __init__(self,length):\n",
    "        self.length = length\n",
    "        self._data = {}\n",
    "\n",
    "    def __get__(self,instance,owner):\n",
    "        return self._data.get(instance)\n",
    "        \n",
    "    def __set__(self,instance,value):\n",
    "        if not type(value) == str:\n",
    "            raise TypeError\n",
    "        \n",
    "        if len(value) > self.length:\n",
    "            raise ValueError\n",
    "        self._data[instance] = value\n",
    "    def __delete__(self,instance):\n",
    "        pass\n"
   ]
  },
  {
   "cell_type": "code",
   "execution_count": 20,
   "metadata": {},
   "outputs": [],
   "source": [
    "class PersonTable:\n",
    "    first_name = TextField(200)"
   ]
  },
  {
   "cell_type": "code",
   "execution_count": 25,
   "metadata": {},
   "outputs": [],
   "source": [
    "p1 = PersonTable()\n",
    "p2 = PersonTable()"
   ]
  },
  {
   "cell_type": "code",
   "execution_count": 28,
   "metadata": {},
   "outputs": [],
   "source": [
    "p1.first_name = \"Andrew\"\n",
    "p2.first_name = \"Jacob\""
   ]
  },
  {
   "cell_type": "code",
   "execution_count": 29,
   "metadata": {},
   "outputs": [
    {
     "data": {
      "text/plain": [
       "'Andrew'"
      ]
     },
     "execution_count": 29,
     "metadata": {},
     "output_type": "execute_result"
    }
   ],
   "source": [
    "p1.first_name"
   ]
  },
  {
   "cell_type": "code",
   "execution_count": 30,
   "metadata": {},
   "outputs": [
    {
     "data": {
      "text/plain": [
       "'Jacob'"
      ]
     },
     "execution_count": 30,
     "metadata": {},
     "output_type": "execute_result"
    }
   ],
   "source": [
    "p2.first_name"
   ]
  },
  {
   "cell_type": "code",
   "execution_count": 59,
   "metadata": {},
   "outputs": [],
   "source": [
    "class TextField:\n",
    "\n",
    "    def __init__(self,length):\n",
    "        self.length = length\n",
    "\n",
    "    def __set_name__(self,owner,name):\n",
    "        self.name = name\n",
    "\n",
    "\n",
    "    def __get__(self,instance,owner):\n",
    "        return instance.__dict__.get(f\"text_field_{self.name}\")\n",
    "        \n",
    "    def __set__(self,instance,value):\n",
    "        if not type(value) == str:\n",
    "            raise TypeError\n",
    "        \n",
    "        if len(value) > self.length:\n",
    "            raise ValueError\n",
    "        instance.__dict__[f\"text_field_{self.name}\"] = value   #this is used for the instance storage method\n",
    "    def __delete__(self,instance):\n",
    "        del instance.__dict__[f\"text_field_{self.name}\"]\n"
   ]
  },
  {
   "cell_type": "code",
   "execution_count": 60,
   "metadata": {},
   "outputs": [],
   "source": [
    "class PersonTable:\n",
    "    first_name = TextField(200)\n",
    "    last_name = TextField(100)\n",
    "\n",
    "p1 = PersonTable()\n",
    "\n"
   ]
  },
  {
   "cell_type": "code",
   "execution_count": 61,
   "metadata": {},
   "outputs": [],
   "source": [
    "p1.first_name = \"Andrew\"\n",
    "p1.last_name = \"Jacob\""
   ]
  },
  {
   "cell_type": "code",
   "execution_count": 62,
   "metadata": {},
   "outputs": [
    {
     "data": {
      "text/plain": [
       "('Andrew', 'Jacob')"
      ]
     },
     "execution_count": 62,
     "metadata": {},
     "output_type": "execute_result"
    }
   ],
   "source": [
    "p1.first_name , p1.last_name"
   ]
  },
  {
   "cell_type": "code",
   "execution_count": 63,
   "metadata": {},
   "outputs": [],
   "source": [
    "# owner parameter will always reflect the class in which the descriptors is defined\n"
   ]
  },
  {
   "cell_type": "code",
   "execution_count": 64,
   "metadata": {},
   "outputs": [],
   "source": [
    "del p1.first_name"
   ]
  },
  {
   "cell_type": "code",
   "execution_count": 65,
   "metadata": {},
   "outputs": [],
   "source": [
    "p1.first_name"
   ]
  },
  {
   "cell_type": "markdown",
   "metadata": {},
   "source": [
    "NON Data Descriptor"
   ]
  },
  {
   "cell_type": "code",
   "execution_count": null,
   "metadata": {},
   "outputs": [],
   "source": [
    "# Non data descriptos are the one which has only the get dunder\" def __get__\""
   ]
  }
 ],
 "metadata": {
  "kernelspec": {
   "display_name": "Python 3",
   "language": "python",
   "name": "python3"
  },
  "language_info": {
   "codemirror_mode": {
    "name": "ipython",
    "version": 3
   },
   "file_extension": ".py",
   "mimetype": "text/x-python",
   "name": "python",
   "nbconvert_exporter": "python",
   "pygments_lexer": "ipython3",
   "version": "3.10.1"
  }
 },
 "nbformat": 4,
 "nbformat_minor": 2
}
