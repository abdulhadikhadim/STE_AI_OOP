{
 "cells": [
  {
   "cell_type": "code",
   "execution_count": 134,
   "metadata": {},
   "outputs": [],
   "source": [
    "from dataclasses import dataclass\n",
    "from functools import total_ordering\n",
    "from typing import List\n"
   ]
  },
  {
   "cell_type": "code",
   "execution_count": 135,
   "metadata": {},
   "outputs": [],
   "source": [
    "@dataclass(frozen=True)\n",
    "class Stock:\n",
    "    ticker: str\n",
    "    price: float\n",
    "    dividend: float = 0\n",
    "    dividend_frequency: int = 4\n",
    "\n",
    "    @property\n",
    "    def annual_dividend(self):\n",
    "        return self.dividend * self.dividend_frequency"
   ]
  },
  {
   "cell_type": "code",
   "execution_count": 136,
   "metadata": {},
   "outputs": [],
   "source": [
    "@dataclass\n",
    "@total_ordering\n",
    "class Position:\n",
    "    stock: Stock\n",
    "    shares: int\n",
    "\n",
    "    def __lt__(self, other):\n",
    "        if type(other) != Position:\n",
    "            raise TypeError(\"Can only compare instance of Position\")\n",
    "\n",
    "        return self.stock.price * self.shares < other.stock.price * other.shares\n",
    "\n",
    "    def __eq__(self, other):\n",
    "        if type(other) != Position:\n",
    "            raise TypeError(\"Can only compare instance of Position\")\n",
    "\n",
    "        return self.stock.price * self.shares == other.stock.price * other.shares"
   ]
  },
  {
   "cell_type": "code",
   "execution_count": 137,
   "metadata": {},
   "outputs": [],
   "source": [
    "@dataclass\n",
    "class Portfolio:\n",
    "    holdings: List[Position]\n",
    "\n",
    "    @property\n",
    "    def value(self):\n",
    "        total_value = sum([position.stock.price * position.shares for position in self.holdings])\n",
    "        return total_value\n",
    "\n",
    "    @property\n",
    "    def portfolio_yield(self):\n",
    "        total_dividends = sum([position.stock.annual_dividend * position.shares for position in self.holdings])\n",
    "\n",
    "        return round((total_dividends / self.value), 6)\n"
   ]
  },
  {
   "cell_type": "code",
   "execution_count": 138,
   "metadata": {},
   "outputs": [],
   "source": [
    "MSFT = Stock('MSFT',360,0.62,4)\n",
    "LMT = Stock('LMT',325,2.8,4)"
   ]
  },
  {
   "cell_type": "code",
   "execution_count": 139,
   "metadata": {},
   "outputs": [],
   "source": [
    "p = Position(MSFT,100)\n",
    "p1 = Position(LMT,100)\n"
   ]
  },
  {
   "cell_type": "code",
   "execution_count": 140,
   "metadata": {},
   "outputs": [],
   "source": [
    "h = Portfolio([p,p1])"
   ]
  },
  {
   "cell_type": "code",
   "execution_count": 141,
   "metadata": {},
   "outputs": [
    {
     "data": {
      "text/plain": [
       "Portfolio(holdings=[Position(stock=Stock(ticker='MSFT', price=360, dividend=0.62, dividend_frequency=4), shares=100), Position(stock=Stock(ticker='LMT', price=325, dividend=2.8, dividend_frequency=4), shares=100)])"
      ]
     },
     "execution_count": 141,
     "metadata": {},
     "output_type": "execute_result"
    }
   ],
   "source": [
    "h"
   ]
  },
  {
   "cell_type": "code",
   "execution_count": 142,
   "metadata": {},
   "outputs": [
    {
     "data": {
      "text/plain": [
       "0.019971"
      ]
     },
     "execution_count": 142,
     "metadata": {},
     "output_type": "execute_result"
    }
   ],
   "source": [
    "h.portfolio_yield"
   ]
  },
  {
   "cell_type": "code",
   "execution_count": null,
   "metadata": {},
   "outputs": [],
   "source": []
  }
 ],
 "metadata": {
  "kernelspec": {
   "display_name": "Python 3",
   "language": "python",
   "name": "python3"
  },
  "language_info": {
   "codemirror_mode": {
    "name": "ipython",
    "version": 3
   },
   "file_extension": ".py",
   "mimetype": "text/x-python",
   "name": "python",
   "nbconvert_exporter": "python",
   "pygments_lexer": "ipython3",
   "version": "3.10.1"
  }
 },
 "nbformat": 4,
 "nbformat_minor": 2
}
