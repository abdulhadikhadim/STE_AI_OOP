{
 "cells": [
  {
   "cell_type": "code",
   "execution_count": 63,
   "metadata": {},
   "outputs": [],
   "source": [
    "from functools import total_ordering"
   ]
  },
  {
   "cell_type": "code",
   "execution_count": 68,
   "metadata": {},
   "outputs": [],
   "source": [
    "import math\n",
    "@total_ordering\n",
    "class Vector(object):\n",
    "    def __init__(self,x,y,z):\n",
    "        self.x = x\n",
    "        self.y = y\n",
    "        self.z = z\n",
    "\n",
    "\n",
    "    def __add__(self,other):\n",
    "        if not isinstance(other,Vector):\n",
    "            raise TypeError(\"Only Instance of Vector could be added\")\n",
    "\n",
    "        return self.x + other.x , self.y + other.y, self.z + other.z\n",
    "\n",
    "    def __abs__(self):\n",
    "        return math.sqrt((self.x)**2 + (self.y)**2 + (self.z)**2)\n",
    "\n",
    "    def __mul__(self,other):\n",
    "\n",
    "        if not type(other) == int and not type(other) == float:\n",
    "\n",
    "            raise TypeError(\"Only Instance of Vector could be added\")\n",
    "\n",
    "        return other*self.x , other*self.y,other*self.z\n",
    "    def __rmul__(self,other):\n",
    "        return self.__mul__(other)\n",
    "\n",
    "    def __add__(self,other):\n",
    "        if not isinstance(other,Vector):\n",
    "            raise TypeError(\"Only Instance of Vector could be added\")\n",
    "\n",
    "        return self.x + other.x , self.y + other.y, self.z + other.z\n",
    "\n",
    "    def __eq__(self,other):\n",
    "        if not isinstance(other,Vector):\n",
    "            raise TypeError(\"Only Instance of Vector could be added\")  \n",
    "\n",
    "        return self.x == other.x and self.y == other.y and self.z == other.z    \n",
    "    \n",
    "    def __le__(self,other):\n",
    "        if not isinstance(other,Vector):\n",
    "            raise TypeError(\"Only Instance of Vector could be added\") \n",
    "        \n",
    "        return abs(self) < abs(other)\n",
    "\n",
    "    def __hash__(self):\n",
    "        return hash((self.x,self.y,self.z))\n",
    "\n",
    "    def __bool__(self):\n",
    "        return bool(abs(self))\n",
    "\n",
    "    def __getitem__(self,item):\n",
    "        if type(item) == str and item.lower() in ['x','y','z']:\n",
    "\n",
    "            return eval(f\"self.{item.lower()}\")\n",
    "        else:\n",
    "            return NotImplemented\n",
    "\n",
    "\n"
   ]
  },
  {
   "cell_type": "code",
   "execution_count": 69,
   "metadata": {},
   "outputs": [],
   "source": [
    "v = Vector(x=1,y=2,z=3)\n",
    "v2 = Vector(x=4,y=5,z=6)\n"
   ]
  },
  {
   "cell_type": "code",
   "execution_count": 70,
   "metadata": {},
   "outputs": [
    {
     "data": {
      "text/plain": [
       "(5, 7, 9)"
      ]
     },
     "execution_count": 70,
     "metadata": {},
     "output_type": "execute_result"
    }
   ],
   "source": [
    "v + v2"
   ]
  },
  {
   "cell_type": "code",
   "execution_count": 71,
   "metadata": {},
   "outputs": [
    {
     "data": {
      "text/plain": [
       "3.7416573867739413"
      ]
     },
     "execution_count": 71,
     "metadata": {},
     "output_type": "execute_result"
    }
   ],
   "source": [
    "abs(v)"
   ]
  },
  {
   "cell_type": "code",
   "execution_count": 72,
   "metadata": {},
   "outputs": [
    {
     "data": {
      "text/plain": [
       "(2, 4, 6)"
      ]
     },
     "execution_count": 72,
     "metadata": {},
     "output_type": "execute_result"
    }
   ],
   "source": [
    "2*v"
   ]
  },
  {
   "cell_type": "code",
   "execution_count": 73,
   "metadata": {},
   "outputs": [],
   "source": [
    "v3 = Vector(0,0,0)"
   ]
  },
  {
   "cell_type": "code",
   "execution_count": 74,
   "metadata": {},
   "outputs": [
    {
     "data": {
      "text/plain": [
       "False"
      ]
     },
     "execution_count": 74,
     "metadata": {},
     "output_type": "execute_result"
    }
   ],
   "source": [
    "bool(v3)"
   ]
  },
  {
   "cell_type": "code",
   "execution_count": 75,
   "metadata": {},
   "outputs": [
    {
     "data": {
      "text/plain": [
       "True"
      ]
     },
     "execution_count": 75,
     "metadata": {},
     "output_type": "execute_result"
    }
   ],
   "source": [
    "v<v2"
   ]
  },
  {
   "cell_type": "code",
   "execution_count": 76,
   "metadata": {},
   "outputs": [
    {
     "data": {
      "text/plain": [
       "True"
      ]
     },
     "execution_count": 76,
     "metadata": {},
     "output_type": "execute_result"
    }
   ],
   "source": [
    "v<v2"
   ]
  },
  {
   "cell_type": "code",
   "execution_count": 77,
   "metadata": {},
   "outputs": [
    {
     "data": {
      "text/plain": [
       "1"
      ]
     },
     "execution_count": 77,
     "metadata": {},
     "output_type": "execute_result"
    }
   ],
   "source": [
    "v.x"
   ]
  },
  {
   "cell_type": "code",
   "execution_count": null,
   "metadata": {},
   "outputs": [],
   "source": []
  }
 ],
 "metadata": {
  "kernelspec": {
   "display_name": "Python 3",
   "language": "python",
   "name": "python3"
  },
  "language_info": {
   "codemirror_mode": {
    "name": "ipython",
    "version": 3
   },
   "file_extension": ".py",
   "mimetype": "text/x-python",
   "name": "python",
   "nbconvert_exporter": "python",
   "pygments_lexer": "ipython3",
   "version": "3.10.1"
  }
 },
 "nbformat": 4,
 "nbformat_minor": 2
}
