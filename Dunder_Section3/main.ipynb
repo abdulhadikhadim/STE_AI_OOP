{
 "cells": [
  {
   "cell_type": "code",
   "execution_count": 2,
   "metadata": {},
   "outputs": [],
   "source": [
    "class Book:\n",
    "    def __init__(self,title,author,book_type,pages):\n",
    "        self.title = title\n",
    "        self.author = author\n",
    "        self.book_type = book_type\n",
    "        self.pages = pages \n",
    "    \n",
    "    #if we add the __repr__ we can customize our class instance\n",
    "\n",
    "    def __repr__(self):\n",
    "        return f\"The author of the book is {self.author}\"\n",
    "\n",
    "    def __str__(self):\n",
    "        return f\"The book {self.book_type} is written by {self.author}\"\n",
    "\n",
    "    def __format__(self,format_spec):\n",
    "        if format_spec ==\"short\":\n",
    "            return f\"{self.title}, {self.author}\"\n",
    "        elif format_spec == \"stealth\":\n",
    "            return f\"the book contain exactly {self.pages} \"\n",
    "        return repr(self)\n",
    "\n",
    "\n"
   ]
  },
  {
   "cell_type": "code",
   "execution_count": 3,
   "metadata": {},
   "outputs": [],
   "source": [
    "b = Book(\"Hello\",\"Ghalib\",\"Poetry\",574) #this is the object of the main class Book\n"
   ]
  },
  {
   "cell_type": "code",
   "execution_count": 4,
   "metadata": {},
   "outputs": [
    {
     "name": "stdout",
     "output_type": "stream",
     "text": [
      "the book contain exactly 574 \n",
      "Hello, Ghalib\n",
      "the book contain exactly 574 \n"
     ]
    }
   ],
   "source": [
    "x = format(b,\"stealth\")\n",
    "print(x)\n",
    "print(f\"{b:short}\")\n",
    "print(f\"{b:stealth}\")"
   ]
  },
  {
   "cell_type": "markdown",
   "metadata": {},
   "source": [
    "Object Equality"
   ]
  },
  {
   "cell_type": "code",
   "execution_count": 15,
   "metadata": {},
   "outputs": [],
   "source": [
    "b = Book(\"Yaad-e-maazi\",\"Ghalib\",\"Poetry\",574) #this is the object of the main class Book\n",
    "b2 = Book(\"Yaad-e-maazi\",\"Ghalib\",\"Poetry\",574) #this is the object of the main class Book\n"
   ]
  },
  {
   "cell_type": "code",
   "execution_count": 16,
   "metadata": {},
   "outputs": [
    {
     "data": {
      "text/plain": [
       "False"
      ]
     },
     "execution_count": 16,
     "metadata": {},
     "output_type": "execute_result"
    }
   ],
   "source": [
    "b == b2"
   ]
  },
  {
   "cell_type": "code",
   "execution_count": 7,
   "metadata": {},
   "outputs": [
    {
     "data": {
      "text/plain": [
       "3139134796032"
      ]
     },
     "execution_count": 7,
     "metadata": {},
     "output_type": "execute_result"
    }
   ],
   "source": [
    "id(b)"
   ]
  },
  {
   "cell_type": "code",
   "execution_count": 15,
   "metadata": {},
   "outputs": [],
   "source": [
    "class Book:\n",
    "    def __init__(self,title,author,book_type,pages):\n",
    "        self.title = title\n",
    "        self.author = author\n",
    "        self.book_type = book_type\n",
    "        self.pages = pages \n",
    "    \n",
    "    #if we add the __repr__ we can customize our class instance\n",
    "\n",
    "    def __repr__(self):\n",
    "        return f\"Book('{self.author}','{self.title}','{self.book_type}','{self.pages}')\"\n",
    "\n",
    "    def __eq__(self,other):\n",
    "        if not isinstance(other,Book):\n",
    "            return False\n",
    "        return self.author == other.author\n",
    "\n",
    "    def __gt__(self,other):\n",
    "\n",
    "        if not isinstance(other,Book):\n",
    "            return False\n",
    "\n",
    "        return self.pages > other.pages\n",
    "\n",
    "    def __le__(self,other):\n",
    "\n",
    "        if not isinstance(other,Book):\n",
    "            return False\n",
    "\n",
    "        return self.pages < other.pages\n",
    "\n",
    "    def __ge__(self,other):\n",
    "\n",
    "\n",
    "        if not isinstance(other,Book):\n",
    "            return False\n",
    "\n",
    "        return self.pages >= other.pages\n",
    "\n"
   ]
  },
  {
   "cell_type": "code",
   "execution_count": null,
   "metadata": {},
   "outputs": [],
   "source": []
  },
  {
   "cell_type": "code",
   "execution_count": 16,
   "metadata": {},
   "outputs": [],
   "source": [
    "b = Book(\"Yaad-e-maazi\",\"Ghalib\",\"Poetry\",574) #this is the object of the main class Book\n",
    "b2 = Book(\"Yaad-e-maazi\",\"Ghalib\",\"Poetry\",565) #this is the object of the main class Book\n"
   ]
  },
  {
   "cell_type": "code",
   "execution_count": 18,
   "metadata": {},
   "outputs": [
    {
     "data": {
      "text/plain": [
       "True"
      ]
     },
     "execution_count": 18,
     "metadata": {},
     "output_type": "execute_result"
    }
   ],
   "source": [
    "b > b2\n"
   ]
  },
  {
   "cell_type": "code",
   "execution_count": 19,
   "metadata": {},
   "outputs": [
    {
     "data": {
      "text/plain": [
       "True"
      ]
     },
     "execution_count": 19,
     "metadata": {},
     "output_type": "execute_result"
    }
   ],
   "source": [
    "b >= b2\n"
   ]
  },
  {
   "cell_type": "code",
   "execution_count": 20,
   "metadata": {},
   "outputs": [
    {
     "data": {
      "text/plain": [
       "False"
      ]
     },
     "execution_count": 20,
     "metadata": {},
     "output_type": "execute_result"
    }
   ],
   "source": [
    "b < b2"
   ]
  },
  {
   "cell_type": "markdown",
   "metadata": {},
   "source": [
    "FuncTools\n"
   ]
  },
  {
   "cell_type": "code",
   "execution_count": null,
   "metadata": {},
   "outputs": [],
   "source": []
  }
 ],
 "metadata": {
  "kernelspec": {
   "display_name": "Python 3",
   "language": "python",
   "name": "python3"
  },
  "language_info": {
   "codemirror_mode": {
    "name": "ipython",
    "version": 3
   },
   "file_extension": ".py",
   "mimetype": "text/x-python",
   "name": "python",
   "nbconvert_exporter": "python",
   "pygments_lexer": "ipython3",
   "version": "3.10.1"
  }
 },
 "nbformat": 4,
 "nbformat_minor": 2
}
