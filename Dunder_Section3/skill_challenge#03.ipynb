{
 "cells": [
  {
   "cell_type": "code",
   "execution_count": 100,
   "metadata": {},
   "outputs": [],
   "source": [
    "class Contact:\n",
    "    def __init__(self,name,last_name,phone=None,email=None,display_mode=\"masked\"):\n",
    "        self.name = name\n",
    "        self.last_name = last_name\n",
    "        self.phone = phone\n",
    "        self.email = email\n",
    "        self.display_mode = display_mode \n",
    "    def __repr__(self):\n",
    "        if self.display_mode == \"masked\": \n",
    "            return f\"Contact(name = '{self._obfuscate(self.name)}' ,last_name = '{self._obfuscate(self.last_name)}' )\"\n",
    "        return f\"Contact(name='{self.name}',last_name = '{self.last_name}',phone = '{self.phone}',email = '{self.email}')\"\n",
    "\n",
    "\n",
    "    def __str__(self):\n",
    "        return f\"{self.last_name[0]}{self.name[0]}\"\n",
    "\n",
    "\n",
    "    def __eq__(self,other):\n",
    "        if not isinstance(other,Contact):\n",
    "            return False\n",
    "        if (self.email is not None and self.email == other.email) or (self.phone is not None and self.phone == other.phone): \n",
    "            return True\n",
    "        \n",
    "        return self.name == other.name and self.last_name == other.last_name\n",
    "\n",
    "    def __hash__(self):\n",
    "        return hash((self.name,self.last_name,self.phone,self.email)) \n",
    "\n",
    "\n",
    "    def __format__(self,format_spec):\n",
    "        if format_spec == 'masked': \n",
    "            return f\"Contact(name='{self._obfuscate(self.name)}',last_name = '{self._obfuscate(self.last_name)}')\"\n",
    "\n",
    "        return f\"Contact(name='{self.name}',last_name = '{self.last_name}',phone = '{self.phone}',email = '{self.email}')\"\n",
    "    \n",
    "    @staticmethod\n",
    "    def _obfuscate(text):\n",
    "        half_len = len(text) // 2\n",
    "        return text[:half_len] + \"*\"*(half_len+1)"
   ]
  },
  {
   "cell_type": "code",
   "execution_count": 101,
   "metadata": {},
   "outputs": [],
   "source": [
    "b = Contact(\"Abdul\",\"Hadi\",email = \"12315\",phone=\"abhsls\")\n"
   ]
  },
  {
   "cell_type": "code",
   "execution_count": 102,
   "metadata": {},
   "outputs": [
    {
     "name": "stdout",
     "output_type": "stream",
     "text": [
      "Contact(name='Ab***',last_name = 'Ha***')\n"
     ]
    }
   ],
   "source": [
    "print(f\"{b:masked}\")"
   ]
  },
  {
   "cell_type": "code",
   "execution_count": null,
   "metadata": {},
   "outputs": [],
   "source": []
  }
 ],
 "metadata": {
  "kernelspec": {
   "display_name": "Python 3",
   "language": "python",
   "name": "python3"
  },
  "language_info": {
   "codemirror_mode": {
    "name": "ipython",
    "version": 3
   },
   "file_extension": ".py",
   "mimetype": "text/x-python",
   "name": "python",
   "nbconvert_exporter": "python",
   "pygments_lexer": "ipython3",
   "version": "3.10.1"
  }
 },
 "nbformat": 4,
 "nbformat_minor": 2
}
