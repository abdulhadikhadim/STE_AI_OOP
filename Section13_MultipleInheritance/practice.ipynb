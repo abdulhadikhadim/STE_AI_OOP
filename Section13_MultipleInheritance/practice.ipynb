{
 "cells": [
  {
   "cell_type": "code",
   "execution_count": 2,
   "metadata": {},
   "outputs": [],
   "source": [
    "class Person:\n",
    "    def __init__(self,language_spoken):\n",
    "        self.language_spoken = language_spoken\n",
    "\n",
    "    def speak_frealy(self):\n",
    "        return \"speaking my mind\"\n",
    "\n",
    "class Citizen:\n",
    "    def __init__(self,nationality):\n",
    "        self.nationality = nationality\n",
    "\n",
    "    def origin(self):\n",
    "        return \"Native origin\""
   ]
  },
  {
   "cell_type": "code",
   "execution_count": 8,
   "metadata": {},
   "outputs": [],
   "source": [
    "class Employee(Citizen, Person):\n",
    "    def __init__(self, occupation, language_spoken=\"English\", nationality= 'Canadian'):\n",
    "        self.occupation = occupation\n",
    "\n",
    "        Person.__init__(self, language_spoken)    #do this for instance attributes if it is inherited from another class\n",
    "        Citizen.__init__(self, nationality)"
   ]
  },
  {
   "cell_type": "code",
   "execution_count": 9,
   "metadata": {},
   "outputs": [],
   "source": [
    "e = Employee(\"Software Engineer\")"
   ]
  },
  {
   "cell_type": "code",
   "execution_count": 10,
   "metadata": {},
   "outputs": [
    {
     "data": {
      "text/plain": [
       "{'occupation': 'Software Engineer',\n",
       " 'language_spoken': 'English',\n",
       " 'nationality': 'Canadian'}"
      ]
     },
     "execution_count": 10,
     "metadata": {},
     "output_type": "execute_result"
    }
   ],
   "source": [
    "e.__dict__"
   ]
  },
  {
   "cell_type": "markdown",
   "metadata": {},
   "source": [
    "Use of super() function to call the istance attribute"
   ]
  },
  {
   "cell_type": "code",
   "execution_count": 18,
   "metadata": {},
   "outputs": [],
   "source": [
    "\n",
    "\n",
    "\n",
    "class Person:\n",
    "    def __init__(self,language_spoken, **kwargs):\n",
    "        self.language_spoken = language_spoken\n",
    "\n",
    "    def speak_frealy(self):\n",
    "        return \"speaking my mind\"\n",
    "\n",
    "class Citizen:\n",
    "    def __init__(self,nationality, **kwargs):\n",
    "        super().__init__(**kwargs)\n",
    "        self.nationality = nationality\n",
    "\n",
    "    def origin(self):\n",
    "        return \"Native origin\"\n",
    "\n",
    "\n",
    "class Employee(Citizen, Person):\n",
    "    def __init__(self, occupation, **kwargs):\n",
    "        self.occupation = occupation\n",
    "        super().__init__(**kwargs)"
   ]
  },
  {
   "cell_type": "code",
   "execution_count": 19,
   "metadata": {},
   "outputs": [],
   "source": [
    "e = Employee(occupation=\"Software Engineer\", nationality='canadian', language_spoken='English')"
   ]
  },
  {
   "cell_type": "code",
   "execution_count": 20,
   "metadata": {},
   "outputs": [
    {
     "data": {
      "text/plain": [
       "{'occupation': 'Software Engineer',\n",
       " 'language_spoken': 'English',\n",
       " 'nationality': 'canadian'}"
      ]
     },
     "execution_count": 20,
     "metadata": {},
     "output_type": "execute_result"
    }
   ],
   "source": [
    "e.__dict__"
   ]
  },
  {
   "cell_type": "code",
   "execution_count": 22,
   "metadata": {},
   "outputs": [],
   "source": [
    "# # rules of __mro__ \n",
    "# 1. Children classes come before their parents\n",
    "# 2. among siblings the order reflected in __bases__ is followed"
   ]
  },
  {
   "cell_type": "code",
   "execution_count": 23,
   "metadata": {},
   "outputs": [],
   "source": [
    "# interfaces are construct that describe the bahviour of an object should have"
   ]
  },
  {
   "cell_type": "code",
   "execution_count": null,
   "metadata": {},
   "outputs": [],
   "source": []
  }
 ],
 "metadata": {
  "kernelspec": {
   "display_name": "Python 3",
   "language": "python",
   "name": "python3"
  },
  "language_info": {
   "codemirror_mode": {
    "name": "ipython",
    "version": 3
   },
   "file_extension": ".py",
   "mimetype": "text/x-python",
   "name": "python",
   "nbconvert_exporter": "python",
   "pygments_lexer": "ipython3",
   "version": "3.10.1"
  }
 },
 "nbformat": 4,
 "nbformat_minor": 2
}
