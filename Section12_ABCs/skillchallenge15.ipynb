{
 "cells": [
  {
   "cell_type": "code",
   "execution_count": 61,
   "metadata": {},
   "outputs": [],
   "source": [
    "from dataclasses import dataclass\n",
    "from collections.abc import Sequence\n",
    "from random import randint, uniform"
   ]
  },
  {
   "cell_type": "code",
   "execution_count": 62,
   "metadata": {},
   "outputs": [],
   "source": [
    "@dataclass(frozen=True)\n",
    "class JobApplicant:\n",
    "    applicant_id: str\n",
    "    years_experience: int\n",
    "    is_recommended: bool\n",
    "    first_interview_score: float\n",
    "    second_interview_score: float"
   ]
  },
  {
   "cell_type": "code",
   "execution_count": 63,
   "metadata": {},
   "outputs": [],
   "source": [
    "\n",
    "\n",
    "\n",
    "class JobApplicantPool(Sequence):\n",
    "    def __init__(self, *args):\n",
    "        self._applicants = list(args)\n",
    "\n",
    "    def add(self, applicant):\n",
    "        self._applicants.append(applicant)\n",
    "\n",
    "    def __getitem__(self, item):\n",
    "        if type(item) == slice:\n",
    "            return type(self)(*self._applicants[item])\n",
    "        elif type(item) == int:\n",
    "            return self._applicants[item]\n",
    "\n",
    "        return NotImplemented\n",
    "\n",
    "    def __len__(self):\n",
    "        return len(self._applicants)\n",
    "\n",
    "    def __repr__(self):\n",
    "        sorted_applicants = sorted(self._applicants, key=self.score, reverse=True)\n",
    "        header = f\"Applicant Pool\\n(Score | ID)\\n{'-' * 20}\\n\"\n",
    "        return header + \"\\n\".join([\n",
    "            f\"{self.score(applicant)} - {applicant.applicant_id}\" for applicant in sorted_applicants\n",
    "        ])\n",
    "\n",
    "    @staticmethod\n",
    "    def score(applicant: JobApplicant):\n",
    "        return round(\n",
    "            applicant.years_experience * .5 +\n",
    "            applicant.is_recommended +\n",
    "            applicant.first_interview_score * .5 +\n",
    "            applicant.second_interview_score,\n",
    "            2)\n",
    "\n",
    "\n",
    "def generate_random_applicants(n=10):\n",
    "    return [\n",
    "        JobApplicant(\n",
    "            applicant_id=str(randint(10000, 90000)),\n",
    "            years_experience=randint(0, 10),\n",
    "            is_recommended=bool(randint(0, 1)),\n",
    "            first_interview_score=round(uniform(1.0, 10.0), 2),\n",
    "            second_interview_score=round(uniform(1.0, 10.0), 2)\n",
    "        ) for _ in range(n)\n",
    "    ]\n"
   ]
  },
  {
   "cell_type": "code",
   "execution_count": 67,
   "metadata": {},
   "outputs": [
    {
     "name": "stdout",
     "output_type": "stream",
     "text": [
      "Applicant Pool\n",
      "(Score | ID)\n",
      "--------------------\n",
      "15.52 - 78336\n",
      "15.12 - 74965\n",
      "14.69 - 53463\n",
      "11.5 - 48906\n",
      "11.38 - 53575\n",
      "11.25 - 36876\n",
      "11.08 - 21974\n",
      "10.9 - 28571\n",
      "6.82 - 83566\n",
      "3.71 - 72811\n"
     ]
    }
   ],
   "source": [
    "\n",
    "job = JobApplicantPool(*generate_random_applicants())\n",
    "print(job)\n"
   ]
  },
  {
   "cell_type": "code",
   "execution_count": null,
   "metadata": {},
   "outputs": [],
   "source": []
  }
 ],
 "metadata": {
  "kernelspec": {
   "display_name": "Python 3",
   "language": "python",
   "name": "python3"
  },
  "language_info": {
   "codemirror_mode": {
    "name": "ipython",
    "version": 3
   },
   "file_extension": ".py",
   "mimetype": "text/x-python",
   "name": "python",
   "nbconvert_exporter": "python",
   "pygments_lexer": "ipython3",
   "version": "3.10.1"
  }
 },
 "nbformat": 4,
 "nbformat_minor": 2
}
