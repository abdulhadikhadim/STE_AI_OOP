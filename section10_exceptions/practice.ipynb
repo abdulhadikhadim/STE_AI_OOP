{
 "cells": [
  {
   "cell_type": "code",
   "execution_count": 13,
   "metadata": {},
   "outputs": [],
   "source": [
    "payload = (\"Abdul\" \"Hadi\")"
   ]
  },
  {
   "cell_type": "code",
   "execution_count": 18,
   "metadata": {},
   "outputs": [],
   "source": [
    "import json\n",
    "\n",
    "def json_decoder(payload):\n",
    "    decoded = None\n",
    "\n",
    "    try:\n",
    "        decoded = json.loads(payload)\n",
    "    except json.JSONDecodeError:\n",
    "        print(\"The payload is invalid\")\n",
    "    finally:\n",
    "        print(\"Decoding Attempt Complete\")\n",
    "\n",
    "    return decoded"
   ]
  },
  {
   "cell_type": "code",
   "execution_count": 19,
   "metadata": {},
   "outputs": [
    {
     "name": "stdout",
     "output_type": "stream",
     "text": [
      "The payload is invalid\n",
      "Decoding Attempt Complete\n"
     ]
    }
   ],
   "source": [
    "json_decoder(payload)"
   ]
  },
  {
   "cell_type": "code",
   "execution_count": null,
   "metadata": {},
   "outputs": [],
   "source": []
  }
 ],
 "metadata": {
  "kernelspec": {
   "display_name": "Python 3",
   "language": "python",
   "name": "python3"
  },
  "language_info": {
   "codemirror_mode": {
    "name": "ipython",
    "version": 3
   },
   "file_extension": ".py",
   "mimetype": "text/x-python",
   "name": "python",
   "nbconvert_exporter": "python",
   "pygments_lexer": "ipython3",
   "version": "3.10.1"
  }
 },
 "nbformat": 4,
 "nbformat_minor": 2
}
