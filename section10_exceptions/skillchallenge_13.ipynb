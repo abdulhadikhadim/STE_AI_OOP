{
 "cells": [
  {
   "cell_type": "code",
   "execution_count": 1,
   "metadata": {},
   "outputs": [],
   "source": [
    "#number guessing game"
   ]
  },
  {
   "cell_type": "code",
   "execution_count": 20,
   "metadata": {},
   "outputs": [],
   "source": [
    "# from random import randint\n",
    "# import time"
   ]
  },
  {
   "cell_type": "code",
   "execution_count": 27,
   "metadata": {},
   "outputs": [
    {
     "name": "stdout",
     "output_type": "stream",
     "text": [
      "88\n",
      "Try Again\n",
      "You have guessed it right\n",
      "tou have guessed the number in 5.049214839935303 seconds\n",
      "8 tries were left before you guess the number\n"
     ]
    }
   ],
   "source": [
    "# computer = randint(1,100)\n",
    "# print(computer)\n",
    "# tries = 10\n",
    "# while True:\n",
    "#     current_time = time.time()\n",
    "\n",
    "#     user = int(input(\"Your guess: \"))\n",
    "#     if user == computer:\n",
    "#         print(\"You have guessed it right\")\n",
    "#         second_time = time.time()-current_time\n",
    "#         print(f\"tou have guessed the number in {second_time} seconds\")\n",
    "#         tries -= 1\n",
    "#         print(f\"{tries} tries were left before you guess the number\")\n",
    "#         break\n",
    "\n",
    "#     elif user != computer:\n",
    "#         print(\"Try Again\")\n",
    "#         tries -= 1\n",
    "#         print(f\"you have {tries} left\")\n"
   ]
  },
  {
   "cell_type": "code",
   "execution_count": 4,
   "metadata": {},
   "outputs": [],
   "source": [
    "import time\n",
    "from collections import defaultdict\n",
    "from string import ascii_lowercase\n",
    "from random import choice"
   ]
  },
  {
   "cell_type": "code",
   "execution_count": 5,
   "metadata": {},
   "outputs": [],
   "source": [
    "class LetterGuessingException(Exception):\n",
    "    \"\"\"The exception base class for the Letter Guessing App\"\"\"\n",
    "\n",
    "\n",
    "class LetterComesAfter(LetterGuessingException):\n",
    "    pass\n",
    "\n",
    "\n",
    "class LetterComesBefore(LetterGuessingException):\n",
    "    pass\n",
    "\n",
    "\n",
    "class NotALetter(LetterGuessingException):\n",
    "    pass"
   ]
  },
  {
   "cell_type": "code",
   "execution_count": 6,
   "metadata": {},
   "outputs": [],
   "source": [
    "class LetterGuessingGame:\n",
    "    def __init__(self):\n",
    "        self.start_time = time.time()\n",
    "        self.performance = defaultdict(list)\n",
    "        self._correct_guess = False\n",
    "\n",
    "    def _display_performance(self):\n",
    "        time_taken = time.time() - self.start_time\n",
    "        return f\"{'That was correct!' if self._correct_guess else 'Game interrupted.'} You played for {round(time_taken, 2)} seconds, and made \" \\\n",
    "               f\"{len(self.performance['before'])} before guesses and \" \\\n",
    "               f\"{len(self.performance['after'])} after guesses\"\n",
    "\n",
    "    @staticmethod\n",
    "    def _pick_a_letter():\n",
    "        print(\"The computer has chosen a letter from the English alphabet... what do you think it was?\")\n",
    "        return choice(list(ascii_lowercase))\n",
    "\n",
    "    @staticmethod\n",
    "    def _validate_user_input(computer_choice, user_guess):\n",
    "        if user_guess not in ascii_lowercase:\n",
    "            raise NotALetter\n",
    "        elif user_guess < computer_choice:\n",
    "            raise LetterComesAfter\n",
    "        elif user_guess > computer_choice:\n",
    "            raise LetterComesBefore\n",
    "\n",
    "    def play(self):\n",
    "        computer_choice = self._pick_a_letter()\n",
    "        print(computer_choice)\n",
    "        user_guess = None\n",
    "\n",
    "        while True:\n",
    "            try:\n",
    "                user_guess = input().strip().lower()\n",
    "                self._validate_user_input(computer_choice, user_guess)\n",
    "\n",
    "                self._correct_guess = True\n",
    "                break\n",
    "            except LetterComesAfter:\n",
    "                print(\"Nope, it was something after, guess again\\n\")\n",
    "                self.performance[\"before\"].append(user_guess)\n",
    "            except LetterComesBefore:\n",
    "                print(\"Nope, it was something before, guess again\\n\")\n",
    "                self.performance[\"after\"].append(user_guess)\n",
    "            except NotALetter:\n",
    "                print(\"Only English alphabet letters are supported\\n\")\n",
    "            except KeyboardInterrupt:\n",
    "                print(self._display_performance())\n",
    "\n",
    "        print(self._display_performance())"
   ]
  },
  {
   "cell_type": "code",
   "execution_count": 7,
   "metadata": {},
   "outputs": [
    {
     "name": "stdout",
     "output_type": "stream",
     "text": [
      "The computer has chosen a letter from the English alphabet... what do you think it was?\n",
      "d\n",
      "Nope, it was something after, guess again\n",
      "\n",
      "Nope, it was something before, guess again\n",
      "\n",
      "Nope, it was something before, guess again\n",
      "\n",
      "Nope, it was something before, guess again\n",
      "\n",
      "That was correct! You played for 26.3 seconds, and made 1 before guesses and 3 after guesses\n"
     ]
    }
   ],
   "source": [
    "game = LetterGuessingGame()\n",
    "game.play()"
   ]
  },
  {
   "cell_type": "code",
   "execution_count": null,
   "metadata": {},
   "outputs": [],
   "source": []
  }
 ],
 "metadata": {
  "kernelspec": {
   "display_name": "Python 3",
   "language": "python",
   "name": "python3"
  },
  "language_info": {
   "codemirror_mode": {
    "name": "ipython",
    "version": 3
   },
   "file_extension": ".py",
   "mimetype": "text/x-python",
   "name": "python",
   "nbconvert_exporter": "python",
   "pygments_lexer": "ipython3",
   "version": "3.10.1"
  }
 },
 "nbformat": 4,
 "nbformat_minor": 2
}
