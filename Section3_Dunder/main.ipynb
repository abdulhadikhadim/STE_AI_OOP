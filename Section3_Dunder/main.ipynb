{
 "cells": [
  {
   "cell_type": "code",
   "execution_count": 2,
   "metadata": {},
   "outputs": [],
   "source": [
    "class Book:\n",
    "    def __init__(self,title,author,book_type,pages):\n",
    "        self.title = title\n",
    "        self.author = author\n",
    "        self.book_type = book_type\n",
    "        self.pages = pages \n",
    "    \n",
    "    #if we add the __repr__ we can customize our class instance\n",
    "\n",
    "    def __repr__(self):\n",
    "        return f\"The author of the book is {self.author}\"\n",
    "\n",
    "    def __str__(self):\n",
    "        return f\"The book {self.book_type} is written by {self.author}\"\n",
    "\n",
    "    def __format__(self,format_spec):\n",
    "        if format_spec ==\"short\":\n",
    "            return f\"{self.title}, {self.author}\"\n",
    "        elif format_spec == \"stealth\":\n",
    "            return f\"the book contain exactly {self.pages} \"\n",
    "        return repr(self)\n",
    "\n",
    "\n"
   ]
  },
  {
   "cell_type": "code",
   "execution_count": 3,
   "metadata": {},
   "outputs": [],
   "source": [
    "b = Book(\"Hello\",\"Ghalib\",\"Poetry\",574) #this is the object of the main class Book\n"
   ]
  },
  {
   "cell_type": "code",
   "execution_count": 4,
   "metadata": {},
   "outputs": [
    {
     "name": "stdout",
     "output_type": "stream",
     "text": [
      "the book contain exactly 574 \n",
      "Hello, Ghalib\n",
      "the book contain exactly 574 \n"
     ]
    }
   ],
   "source": [
    "x = format(b,\"stealth\")\n",
    "print(x)\n",
    "print(f\"{b:short}\")\n",
    "print(f\"{b:stealth}\")"
   ]
  },
  {
   "cell_type": "markdown",
   "metadata": {},
   "source": [
    "Object Equality"
   ]
  },
  {
   "cell_type": "code",
   "execution_count": 15,
   "metadata": {},
   "outputs": [],
   "source": [
    "b = Book(\"Yaad-e-maazi\",\"Ghalib\",\"Poetry\",574) #this is the object of the main class Book\n",
    "b2 = Book(\"Yaad-e-maazi\",\"Ghalib\",\"Poetry\",574) #this is the object of the main class Book\n"
   ]
  },
  {
   "cell_type": "code",
   "execution_count": 16,
   "metadata": {},
   "outputs": [
    {
     "data": {
      "text/plain": [
       "False"
      ]
     },
     "execution_count": 16,
     "metadata": {},
     "output_type": "execute_result"
    }
   ],
   "source": [
    "b == b2"
   ]
  },
  {
   "cell_type": "code",
   "execution_count": 7,
   "metadata": {},
   "outputs": [
    {
     "data": {
      "text/plain": [
       "3139134796032"
      ]
     },
     "execution_count": 7,
     "metadata": {},
     "output_type": "execute_result"
    }
   ],
   "source": [
    "id(b)"
   ]
  },
  {
   "cell_type": "code",
   "execution_count": 30,
   "metadata": {},
   "outputs": [],
   "source": [
    "class Book:\n",
    "    def __init__(self,title,author,book_type,pages):\n",
    "        self.title = title\n",
    "        self.author = author\n",
    "        self.book_type = book_type\n",
    "        self.pages = pages \n",
    "    \n",
    "    #if we add the __repr__ we can customize our class instance\n",
    "\n",
    "    def __repr__(self):\n",
    "        return f\"Book('{self.author}','{self.title}','{self.book_type}','{self.pages}')\"\n",
    "\n",
    "    def __eq__(self,other):\n",
    "        if not isinstance(other,Book):\n",
    "            return False\n",
    "        return self.author == other.author\n",
    "\n",
    "    def __gt__(self,other):\n",
    "\n",
    "        if not isinstance(other,Book):\n",
    "            return False\n",
    "\n",
    "        return self.pages > other.pages\n",
    "\n",
    "    # def __le__(self,other):\n",
    "\n",
    "    #     if not isinstance(other,Book):\n",
    "    #         return False\n",
    "\n",
    "    #     return self.pages < other.pages\n",
    "\n",
    "    # def __ge__(self,other):\n",
    "\n",
    "\n",
    "    #     if not isinstance(other,Book):\n",
    "    #         return False\n",
    "\n",
    "    #     return self.pages >= other.pages\n",
    "\n"
   ]
  },
  {
   "cell_type": "code",
   "execution_count": null,
   "metadata": {},
   "outputs": [],
   "source": []
  },
  {
   "cell_type": "code",
   "execution_count": 31,
   "metadata": {},
   "outputs": [],
   "source": [
    "b = Book(\"Yaad-e-maazi\",\"Ghalib\",\"Poetry\",574) #this is the object of the main class Book\n",
    "b2 = Book(\"Yaad-e-maazi\",\"Ghalib\",\"Poetry\",565) #this is the object of the main class Book\n"
   ]
  },
  {
   "cell_type": "markdown",
   "metadata": {},
   "source": [
    "FuncTools\n"
   ]
  },
  {
   "cell_type": "code",
   "execution_count": 34,
   "metadata": {},
   "outputs": [],
   "source": [
    "from functools import total_ordering\n"
   ]
  },
  {
   "cell_type": "code",
   "execution_count": 35,
   "metadata": {},
   "outputs": [],
   "source": [
    "Book = total_ordering(Book)"
   ]
  },
  {
   "cell_type": "code",
   "execution_count": 36,
   "metadata": {},
   "outputs": [
    {
     "data": {
      "text/plain": [
       "True"
      ]
     },
     "execution_count": 36,
     "metadata": {},
     "output_type": "execute_result"
    }
   ],
   "source": [
    "b >= b2"
   ]
  },
  {
   "cell_type": "code",
   "execution_count": 37,
   "metadata": {},
   "outputs": [
    {
     "data": {
      "text/plain": [
       "True"
      ]
     },
     "execution_count": 37,
     "metadata": {},
     "output_type": "execute_result"
    }
   ],
   "source": [
    "b > b2"
   ]
  },
  {
   "cell_type": "code",
   "execution_count": 38,
   "metadata": {},
   "outputs": [
    {
     "data": {
      "text/plain": [
       "False"
      ]
     },
     "execution_count": 38,
     "metadata": {},
     "output_type": "execute_result"
    }
   ],
   "source": [
    "b < b2"
   ]
  },
  {
   "cell_type": "markdown",
   "metadata": {},
   "source": [
    "Truthiness"
   ]
  },
  {
   "cell_type": "code",
   "execution_count": 83,
   "metadata": {},
   "outputs": [],
   "source": [
    "class Book:\n",
    "    def __init__(self,title,author,book_type,pages):\n",
    "        self.title = title\n",
    "        self.author = author\n",
    "        self.book_type = book_type\n",
    "        self.pages = pages \n",
    "    \n",
    "    #if we add the __repr__ we can customize our class instance\n",
    "\n",
    "    def __repr__(self):\n",
    "        return f\"Book('{self.author}','{self.title}','{self.book_type}','{self.pages}')\"\n",
    "\n",
    "    def __eq__(self,other):\n",
    "        if not isinstance(other,Book):\n",
    "            return False\n",
    "        return self.author == other.author\n",
    "\n",
    "    def __gt__(self,other):\n",
    "\n",
    "        if not isinstance(other,Book):\n",
    "            return False\n",
    "\n",
    "        return self.pages > other.pages\n",
    "\n",
    "    def __bool__(self):\n",
    "        return bool(self.pages) and not(self.pages<1)\n",
    "\n",
    "    def __len__(self):\n",
    "        return self.pages if self.pages > 0 else 0"
   ]
  },
  {
   "cell_type": "code",
   "execution_count": 84,
   "metadata": {},
   "outputs": [],
   "source": [
    "b = Book(\"Yaad-e-maazi\",\"Ghalib\",\"Poetry\",-304) #this is the object of the main class Book\n"
   ]
  },
  {
   "cell_type": "code",
   "execution_count": 85,
   "metadata": {},
   "outputs": [
    {
     "data": {
      "text/plain": [
       "False"
      ]
     },
     "execution_count": 85,
     "metadata": {},
     "output_type": "execute_result"
    }
   ],
   "source": [
    "bool(b)"
   ]
  },
  {
   "cell_type": "code",
   "execution_count": 86,
   "metadata": {},
   "outputs": [
    {
     "data": {
      "text/plain": [
       "0"
      ]
     },
     "execution_count": 86,
     "metadata": {},
     "output_type": "execute_result"
    }
   ],
   "source": [
    "len(b)"
   ]
  },
  {
   "cell_type": "markdown",
   "metadata": {},
   "source": [
    "Container Class\n"
   ]
  },
  {
   "cell_type": "code",
   "execution_count": 123,
   "metadata": {},
   "outputs": [],
   "source": [
    "class BookShelf:\n",
    "    def __init__(self,capacity):\n",
    "        self.books = []\n",
    "        self.capacity= capacity\n",
    "\n",
    "    def add_book(self,book):\n",
    "        if not isinstance(book,Book):\n",
    "            raise TypeError(\"Only Instance of Book could be added\")\n",
    "        if not self.capacity > len(self.books):\n",
    "            raise OverflowError(\"Bookshelf is full\")\n",
    "        self.books.append(book)\n",
    "\n",
    "    def __add__(self,other):\n",
    "        if not isinstance(other,Book):\n",
    "            raise TypeError(\"Only Instance of Book could be added\")\n",
    "        \n",
    "        new_shelf = BookShelf(capacity=12)\n",
    "\n",
    "        for book in self.books:\n",
    "            new_shelf.add_book(book)\n",
    "\n",
    "        new_shelf.add_book(other)\n",
    "    \n",
    "        return new_shelf\n",
    "\n",
    "    def __radd__(self,other):\n",
    "        if not isinstance(other,Book):\n",
    "            raise TypeError(\"Only Instance of Book could be added\")\n",
    "\n",
    "        return self + other\n",
    "\n",
    "\n",
    "\n",
    "\n",
    "        "
   ]
  },
  {
   "cell_type": "code",
   "execution_count": 124,
   "metadata": {},
   "outputs": [],
   "source": [
    "shelf = BookShelf(capacity=10)"
   ]
  },
  {
   "cell_type": "code",
   "execution_count": 125,
   "metadata": {},
   "outputs": [],
   "source": [
    "b = Book(\"Yaad-e-maazi\",\"Ghalib\",\"Poetry\",304) #this is the object of the main class Book\n",
    "b2 = Book(\"Yaad-e-maazi\",\"Ghalib\",\"Poetry\",304) #this is the object of the main class Book\n"
   ]
  },
  {
   "cell_type": "code",
   "execution_count": 126,
   "metadata": {},
   "outputs": [],
   "source": [
    "shelf.add_book(b)"
   ]
  },
  {
   "cell_type": "code",
   "execution_count": 127,
   "metadata": {},
   "outputs": [
    {
     "data": {
      "text/plain": [
       "<__main__.BookShelf at 0x1efd9851e10>"
      ]
     },
     "execution_count": 127,
     "metadata": {},
     "output_type": "execute_result"
    }
   ],
   "source": [
    "shelf"
   ]
  },
  {
   "cell_type": "code",
   "execution_count": 128,
   "metadata": {},
   "outputs": [
    {
     "data": {
      "text/plain": [
       "<__main__.BookShelf at 0x1efd9852ec0>"
      ]
     },
     "execution_count": 128,
     "metadata": {},
     "output_type": "execute_result"
    }
   ],
   "source": [
    "shelf + b2"
   ]
  },
  {
   "cell_type": "code",
   "execution_count": 129,
   "metadata": {},
   "outputs": [
    {
     "data": {
      "text/plain": [
       "<__main__.BookShelf at 0x1efd9852ef0>"
      ]
     },
     "execution_count": 129,
     "metadata": {},
     "output_type": "execute_result"
    }
   ],
   "source": [
    "b2 + shelf"
   ]
  },
  {
   "cell_type": "markdown",
   "metadata": {},
   "source": [
    "Python has \n",
    "\n",
    "both \n",
    "\n",
    "\"__add__\n",
    "\n",
    "__radd__\"\n",
    "\n",
    "for others as well like division, subtraction and multiplication"
   ]
  },
  {
   "cell_type": "code",
   "execution_count": 134,
   "metadata": {},
   "outputs": [
    {
     "ename": "OverflowError",
     "evalue": "Bookshelf is full",
     "output_type": "error",
     "traceback": [
      "\u001b[1;31m---------------------------------------------------------------------------\u001b[0m",
      "\u001b[1;31mOverflowError\u001b[0m                             Traceback (most recent call last)",
      "Cell \u001b[1;32mIn[134], line 7\u001b[0m\n\u001b[0;32m      4\u001b[0m b4 \u001b[38;5;241m=\u001b[39m Book(\u001b[38;5;124m\"\u001b[39m\u001b[38;5;124mYaad-e-maazi\u001b[39m\u001b[38;5;124m\"\u001b[39m,\u001b[38;5;124m\"\u001b[39m\u001b[38;5;124mGhalib\u001b[39m\u001b[38;5;124m\"\u001b[39m,\u001b[38;5;124m\"\u001b[39m\u001b[38;5;124mPoetry\u001b[39m\u001b[38;5;124m\"\u001b[39m,\u001b[38;5;241m304\u001b[39m) \u001b[38;5;66;03m#this is the object of the main class Book\u001b[39;00m\n\u001b[0;32m      6\u001b[0m \u001b[38;5;28;01mfor\u001b[39;00m b \u001b[38;5;129;01min\u001b[39;00m [b1,b2,b3,b4]:\n\u001b[1;32m----> 7\u001b[0m     shelf\u001b[38;5;241m+\u001b[39m\u001b[38;5;241m=\u001b[39mb\n\u001b[0;32m      9\u001b[0m shelf\n",
      "Cell \u001b[1;32mIn[132], line 24\u001b[0m, in \u001b[0;36mBookShelf.__add__\u001b[1;34m(self, other)\u001b[0m\n\u001b[0;32m     21\u001b[0m \u001b[38;5;28;01mfor\u001b[39;00m book \u001b[38;5;129;01min\u001b[39;00m \u001b[38;5;28mself\u001b[39m\u001b[38;5;241m.\u001b[39mbooks:\n\u001b[0;32m     22\u001b[0m     new_shelf\u001b[38;5;241m.\u001b[39madd_book(book)\n\u001b[1;32m---> 24\u001b[0m \u001b[43mnew_shelf\u001b[49m\u001b[38;5;241;43m.\u001b[39;49m\u001b[43madd_book\u001b[49m\u001b[43m(\u001b[49m\u001b[43mother\u001b[49m\u001b[43m)\u001b[49m\n\u001b[0;32m     26\u001b[0m \u001b[38;5;28;01mreturn\u001b[39;00m new_shelf\n",
      "Cell \u001b[1;32mIn[132], line 12\u001b[0m, in \u001b[0;36mBookShelf.add_book\u001b[1;34m(self, book)\u001b[0m\n\u001b[0;32m     10\u001b[0m     \u001b[38;5;28;01mraise\u001b[39;00m \u001b[38;5;167;01mTypeError\u001b[39;00m(\u001b[38;5;124m\"\u001b[39m\u001b[38;5;124mOnly Instance of Book could be added\u001b[39m\u001b[38;5;124m\"\u001b[39m)\n\u001b[0;32m     11\u001b[0m \u001b[38;5;28;01mif\u001b[39;00m \u001b[38;5;129;01mnot\u001b[39;00m \u001b[38;5;28mself\u001b[39m\u001b[38;5;241m.\u001b[39mcapacity \u001b[38;5;241m>\u001b[39m \u001b[38;5;28mlen\u001b[39m(\u001b[38;5;28mself\u001b[39m\u001b[38;5;241m.\u001b[39mbooks):\n\u001b[1;32m---> 12\u001b[0m     \u001b[38;5;28;01mraise\u001b[39;00m \u001b[38;5;167;01mOverflowError\u001b[39;00m(\u001b[38;5;124m\"\u001b[39m\u001b[38;5;124mBookshelf is full\u001b[39m\u001b[38;5;124m\"\u001b[39m)\n\u001b[0;32m     13\u001b[0m \u001b[38;5;28mself\u001b[39m\u001b[38;5;241m.\u001b[39mbooks\u001b[38;5;241m.\u001b[39mappend(book)\n",
      "\u001b[1;31mOverflowError\u001b[0m: Bookshelf is full"
     ]
    }
   ],
   "source": [
    "b1 = Book(\"Yaad-e-maazi\",\"Ghalib\",\"Poetry\",304) #this is the object of the main class Book\n",
    "b2 = Book(\"Yaad-e-maazi\",\"Ghalib\",\"Poetry\",304) #this is the object of the main class Book\n",
    "b3 = Book(\"Yaad-e-maazi\",\"Ghalib\",\"Poetry\",304) #this is the object of the main class Book\n",
    "b4 = Book(\"Yaad-e-maazi\",\"Ghalib\",\"Poetry\",304) #this is the object of the main class Book\n",
    "\n",
    "for b in [b1,b2,b3,b4]:\n",
    "    shelf+=b\n",
    "\n",
    "shelf"
   ]
  },
  {
   "cell_type": "code",
   "execution_count": 141,
   "metadata": {},
   "outputs": [],
   "source": [
    "class BookShelf:\n",
    "    def __init__(self,capacity):\n",
    "        self.books = []\n",
    "        self.capacity= capacity\n",
    "\n",
    "    def __repr__(self):\n",
    "        return str(self.books)\n",
    "    def add_book(self,book):\n",
    "        if not isinstance(book,Book):\n",
    "            raise TypeError(\"Only Instance of Book could be added\")\n",
    "        if not self.capacity > len(self.books):\n",
    "            raise OverflowError(\"Bookshelf is full\")\n",
    "        self.books.append(book)\n",
    "\n",
    "    def __add__(self,other):\n",
    "        if not isinstance(other,Book):\n",
    "            raise TypeError(\"Only Instance of Book could be added\")\n",
    "        \n",
    "        new_shelf = BookShelf(capacity=12)\n",
    "\n",
    "        for book in self.books:\n",
    "            new_shelf.add_book(book)\n",
    "\n",
    "        new_shelf.add_book(other)\n",
    "    \n",
    "        return new_shelf\n",
    "\n",
    "    def __radd__(self,other):\n",
    "        if not isinstance(other,Book):\n",
    "            raise TypeError(\"Only Instance of Book could be added\")\n",
    "\n",
    "        return self + other\n",
    "    \n",
    "    def __getitem__(self,item):\n",
    "        if isinstance(item,str):\n",
    "            return [book for book in self.books if item in book.title]\n",
    "        return self.books[item]\n",
    "\n",
    "\n",
    "\n",
    "        "
   ]
  },
  {
   "cell_type": "code",
   "execution_count": 142,
   "metadata": {},
   "outputs": [],
   "source": [
    "shelf = BookShelf(capacity=10)"
   ]
  },
  {
   "cell_type": "code",
   "execution_count": 143,
   "metadata": {},
   "outputs": [
    {
     "data": {
      "text/plain": [
       "[Book('Ghalib','Yaad-e-maazi','Poetry','304'), Book('Ghalib','Yaad-e-maazi','Poetry','304'), Book('Ghalib','Yaad-e-maazi','Poetry','304'), Book('Ghalib','Yaad-e-maazi','Poetry','304')]"
      ]
     },
     "execution_count": 143,
     "metadata": {},
     "output_type": "execute_result"
    }
   ],
   "source": [
    "b1 = Book(\"Yaad-e-maazi\",\"Ghalib\",\"Poetry\",304) #this is the object of the main class Book\n",
    "b2 = Book(\"Yaad-e-maazi\",\"Ghalib\",\"Poetry\",304) #this is the object of the main class Book\n",
    "b3 = Book(\"Yaad-e-maazi\",\"Ghalib\",\"Poetry\",304) #this is the object of the main class Book\n",
    "b4 = Book(\"Yaad-e-maazi\",\"Ghalib\",\"Poetry\",304) #this is the object of the main class Book\n",
    "\n",
    "for b in [b1,b2,b3,b4]:\n",
    "    shelf+=b\n",
    "\n",
    "shelf"
   ]
  },
  {
   "cell_type": "code",
   "execution_count": 144,
   "metadata": {},
   "outputs": [
    {
     "data": {
      "text/plain": [
       "Book('Ghalib','Yaad-e-maazi','Poetry','304')"
      ]
     },
     "execution_count": 144,
     "metadata": {},
     "output_type": "execute_result"
    }
   ],
   "source": [
    "shelf[0]"
   ]
  },
  {
   "cell_type": "code",
   "execution_count": 145,
   "metadata": {},
   "outputs": [
    {
     "data": {
      "text/plain": [
       "[Book('Ghalib','Yaad-e-maazi','Poetry','304'),\n",
       " Book('Ghalib','Yaad-e-maazi','Poetry','304'),\n",
       " Book('Ghalib','Yaad-e-maazi','Poetry','304'),\n",
       " Book('Ghalib','Yaad-e-maazi','Poetry','304')]"
      ]
     },
     "execution_count": 145,
     "metadata": {},
     "output_type": "execute_result"
    }
   ],
   "source": [
    "shelf[\"Yaad-e-maazi\"]"
   ]
  },
  {
   "cell_type": "code",
   "execution_count": null,
   "metadata": {},
   "outputs": [],
   "source": []
  }
 ],
 "metadata": {
  "kernelspec": {
   "display_name": "Python 3",
   "language": "python",
   "name": "python3"
  },
  "language_info": {
   "codemirror_mode": {
    "name": "ipython",
    "version": 3
   },
   "file_extension": ".py",
   "mimetype": "text/x-python",
   "name": "python",
   "nbconvert_exporter": "python",
   "pygments_lexer": "ipython3",
   "version": "3.10.1"
  }
 },
 "nbformat": 4,
 "nbformat_minor": 2
}
