{
 "cells": [
  {
   "cell_type": "code",
   "execution_count": 23,
   "metadata": {},
   "outputs": [],
   "source": [
    "class DNABase:\n",
    "    def __init__(self,nucleotide):\n",
    "        self.base = nucleotide ## This is done for standarization and validation\n",
    "\n",
    "    def __repr__(self):\n",
    "        return f\"{type(self).__name__}(nucleotide = '{self.base}')\"\n",
    "    @staticmethod\n",
    "    def _validate_and_standardize(base):\n",
    "        allowed = [('a' , 'adenine'),('c' , 'cytosine'),('g' , 'guanine'),('t' , 'thymine')]\n",
    "\n",
    "        for b in allowed:\n",
    "            if base.lower().strip() in b:\n",
    "                return b[1]\n",
    "        \n",
    "        return False\n",
    "\n",
    "    def set_base(self,base):\n",
    "        valid_base = self._validate_and_standardize(base)\n",
    "\n",
    "        \n",
    "        if valid_base:\n",
    "            self._base = valid_base\n",
    "        else:\n",
    "            raise ValueError(f\"{base} is not a recognized in DNA nucleotide\")\n",
    "\n",
    "    def get_base(self):\n",
    "        return self._base\n",
    "\n",
    "\n",
    "    base = property(fget=get_base,fset=set_base)\n",
    "    \n"
   ]
  },
  {
   "cell_type": "code",
   "execution_count": 24,
   "metadata": {},
   "outputs": [],
   "source": [
    "b1 = DNABase('a')\n",
    "b2 = DNABase('t')\n",
    "b3 = DNABase('c')"
   ]
  },
  {
   "cell_type": "code",
   "execution_count": 25,
   "metadata": {},
   "outputs": [
    {
     "data": {
      "text/plain": [
       "'adenine'"
      ]
     },
     "execution_count": 25,
     "metadata": {},
     "output_type": "execute_result"
    }
   ],
   "source": [
    "b1.get_base()\n"
   ]
  },
  {
   "cell_type": "code",
   "execution_count": 26,
   "metadata": {},
   "outputs": [
    {
     "data": {
      "text/plain": [
       "'thymine'"
      ]
     },
     "execution_count": 26,
     "metadata": {},
     "output_type": "execute_result"
    }
   ],
   "source": [
    "b2.get_base()\n"
   ]
  },
  {
   "cell_type": "code",
   "execution_count": 27,
   "metadata": {},
   "outputs": [
    {
     "data": {
      "text/plain": [
       "'cytosine'"
      ]
     },
     "execution_count": 27,
     "metadata": {},
     "output_type": "execute_result"
    }
   ],
   "source": [
    "b3.get_base()"
   ]
  },
  {
   "cell_type": "code",
   "execution_count": null,
   "metadata": {},
   "outputs": [],
   "source": []
  },
  {
   "cell_type": "code",
   "execution_count": null,
   "metadata": {},
   "outputs": [],
   "source": []
  },
  {
   "cell_type": "code",
   "execution_count": null,
   "metadata": {},
   "outputs": [],
   "source": []
  },
  {
   "cell_type": "code",
   "execution_count": null,
   "metadata": {},
   "outputs": [],
   "source": []
  }
 ],
 "metadata": {
  "kernelspec": {
   "display_name": "Python 3",
   "language": "python",
   "name": "python3"
  },
  "language_info": {
   "codemirror_mode": {
    "name": "ipython",
    "version": 3
   },
   "file_extension": ".py",
   "mimetype": "text/x-python",
   "name": "python",
   "nbconvert_exporter": "python",
   "pygments_lexer": "ipython3",
   "version": "3.10.1"
  }
 },
 "nbformat": 4,
 "nbformat_minor": 2
}
