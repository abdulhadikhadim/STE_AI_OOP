{
 "cells": [
  {
   "cell_type": "code",
   "execution_count": 59,
   "metadata": {},
   "outputs": [],
   "source": [
    "from enum import auto, Flag"
   ]
  },
  {
   "cell_type": "code",
   "execution_count": 68,
   "metadata": {},
   "outputs": [],
   "source": [
    "class Permission(Flag):\n",
    "    READ = auto()\n",
    "    WRITE = auto()\n",
    "    EXEC = auto()"
   ]
  },
  {
   "cell_type": "code",
   "execution_count": 69,
   "metadata": {},
   "outputs": [],
   "source": [
    "class BaseUser:\n",
    "    USER_ROLES = {\n",
    "        \"admin\": Permission.READ | Permission.WRITE | Permission.EXEC,\n",
    "        \"user\": Permission.READ,\n",
    "        \"manager\": Permission.READ | Permission.WRITE,\n",
    "        \"support\": Permission.EXEC,\n",
    "    }\n",
    "\n",
    "    def _infer_permission(self):\n",
    "        permissions = Permission.READ  # base default\n",
    "        role = self.user_role\n",
    "\n",
    "        if role in self.USER_ROLES:\n",
    "            permissions = self.USER_ROLES.get(role)\n",
    "        elif type(role) == int: # if role is specified as an int, e.g. 6 -> EXEC (2**2) and WRITE (2**1)\n",
    "            try:\n",
    "                Permission(role)\n",
    "            except ValueError:\n",
    "                pass\n",
    "            else:\n",
    "                permissions = role\n",
    "\n",
    "        return Permission(permissions)\n",
    "\n",
    "    def _validate_permission(self, permssion):\n",
    "        if permssion not in self.permissions:\n",
    "            raise PermissionError(f\"User does not have {permssion.name} permission.\")\n",
    "\n",
    "    def read(self, file=\"script.py\"):\n",
    "        self._validate_permission(Permission.READ)\n",
    "\n",
    "        with open(file) as f:\n",
    "            return f.read()\n",
    "\n",
    "    def write(self, file=\"script.py\", content=\"\"):\n",
    "        self._validate_permission(Permission.WRITE)\n",
    "\n",
    "        with open(file, \"w\") as f:\n",
    "            f.write(content)\n",
    "            print(f\"Wrote '{content}' to {file}.\")\n",
    "\n",
    "    def execute(self, file=\"script.py\"):\n",
    "        self._validate_permission(Permission.EXEC)\n",
    "\n",
    "        exec(open(file).read())\n",
    "\n",
    "    def __repr__(self):\n",
    "        return f\"{type(self).__name__}(name='{self.name}', user_role='{self.user_role}')\"\n"
   ]
  },
  {
   "cell_type": "code",
   "execution_count": 70,
   "metadata": {},
   "outputs": [],
   "source": [
    "class User(BaseUser):\n",
    "    def __init__(self, name, user_role):\n",
    "        self.name = name\n",
    "        self.user_role = user_role\n",
    "\n",
    "        self.permissions = self._infer_permission()"
   ]
  },
  {
   "cell_type": "code",
   "execution_count": 71,
   "metadata": {},
   "outputs": [],
   "source": [
    "u1 = User(\"Andy\", \"admin\")"
   ]
  },
  {
   "cell_type": "code",
   "execution_count": 73,
   "metadata": {},
   "outputs": [
    {
     "data": {
      "text/plain": [
       "<Permission.EXEC|WRITE|READ: 7>"
      ]
     },
     "execution_count": 73,
     "metadata": {},
     "output_type": "execute_result"
    }
   ],
   "source": [
    "u1.permissions"
   ]
  },
  {
   "cell_type": "code",
   "execution_count": 74,
   "metadata": {},
   "outputs": [],
   "source": [
    "u2 = User(\"Abdul\", 6)"
   ]
  },
  {
   "cell_type": "code",
   "execution_count": 75,
   "metadata": {},
   "outputs": [
    {
     "data": {
      "text/plain": [
       "<Permission.EXEC|WRITE: 6>"
      ]
     },
     "execution_count": 75,
     "metadata": {},
     "output_type": "execute_result"
    }
   ],
   "source": [
    "u2.permissions"
   ]
  },
  {
   "cell_type": "code",
   "execution_count": 77,
   "metadata": {},
   "outputs": [
    {
     "name": "stdout",
     "output_type": "stream",
     "text": [
      "Wrote 'this is python' to script1.py.\n"
     ]
    }
   ],
   "source": [
    "u2.write(file = 'script1.py', content = 'this is python')"
   ]
  },
  {
   "cell_type": "code",
   "execution_count": null,
   "metadata": {},
   "outputs": [],
   "source": []
  }
 ],
 "metadata": {
  "kernelspec": {
   "display_name": "Python 3",
   "language": "python",
   "name": "python3"
  },
  "language_info": {
   "codemirror_mode": {
    "name": "ipython",
    "version": 3
   },
   "file_extension": ".py",
   "mimetype": "text/x-python",
   "name": "python",
   "nbconvert_exporter": "python",
   "pygments_lexer": "ipython3",
   "version": "3.10.1"
  }
 },
 "nbformat": 4,
 "nbformat_minor": 2
}
