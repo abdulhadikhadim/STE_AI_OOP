{
 "cells": [
  {
   "cell_type": "code",
   "execution_count": 33,
   "metadata": {},
   "outputs": [],
   "source": [
    "class Tablet:\n",
    "    MAX_MEMORY = 1024\n",
    "    def __init__(self, model):\n",
    "        self.model = model\n",
    "\n",
    "        if model == 'lite':\n",
    "            self.base_storage = 32\n",
    "            self.added_storage = 0\n",
    "            self.memory = 2\n",
    "        elif model == 'pro':\n",
    "            self.base_storage = 64\n",
    "            self.added_storage = 0\n",
    "            self.memory = 3\n",
    "        elif model == 'max':\n",
    "            self.base_storage = 128\n",
    "            self.added_storage = 0\n",
    "            self.memory = 4\n",
    "        else:\n",
    "            raise ValueError(\"Select the right model of the tablet\")\n",
    "    @property\n",
    "    def base_storage(self):\n",
    "        return self._base_storage\n",
    "\n",
    "    @property\n",
    "    def memory(self):\n",
    "        return self._memory\n",
    "    def added_storage1(self, value):\n",
    "        if self.base_storage + value > self.MAX_MEMORY:\n",
    "            raise ValueError(\"Memory exceeds\")\n",
    "        self.added_storage += value\n",
    "\n",
    "    @property\n",
    "    def storage(self):\n",
    "        return self.base_storage + self.added_storage\n",
    "\n",
    "    @storage.setter\n",
    "    def storage(self, value):\n",
    "        self.added_storage = value - self.base_storage\n",
    "\n",
    "\n"
   ]
  },
  {
   "cell_type": "code",
   "execution_count": 34,
   "metadata": {},
   "outputs": [
    {
     "ename": "AttributeError",
     "evalue": "can't set attribute 'base_storage'",
     "output_type": "error",
     "traceback": [
      "\u001b[1;31m---------------------------------------------------------------------------\u001b[0m",
      "\u001b[1;31mAttributeError\u001b[0m                            Traceback (most recent call last)",
      "Cell \u001b[1;32mIn[34], line 2\u001b[0m\n\u001b[0;32m      1\u001b[0m \u001b[38;5;66;03m# Creating instances\u001b[39;00m\n\u001b[1;32m----> 2\u001b[0m c1 \u001b[38;5;241m=\u001b[39m \u001b[43mTablet\u001b[49m\u001b[43m(\u001b[49m\u001b[38;5;124;43m'\u001b[39;49m\u001b[38;5;124;43mlite\u001b[39;49m\u001b[38;5;124;43m'\u001b[39;49m\u001b[43m)\u001b[49m\n\u001b[0;32m      3\u001b[0m c2 \u001b[38;5;241m=\u001b[39m Tablet(\u001b[38;5;124m'\u001b[39m\u001b[38;5;124mpro\u001b[39m\u001b[38;5;124m'\u001b[39m)\n\u001b[0;32m      4\u001b[0m c3 \u001b[38;5;241m=\u001b[39m Tablet(\u001b[38;5;124m'\u001b[39m\u001b[38;5;124mmax\u001b[39m\u001b[38;5;124m'\u001b[39m)\n",
      "Cell \u001b[1;32mIn[33], line 7\u001b[0m, in \u001b[0;36mTablet.__init__\u001b[1;34m(self, model)\u001b[0m\n\u001b[0;32m      4\u001b[0m \u001b[38;5;28mself\u001b[39m\u001b[38;5;241m.\u001b[39mmodel \u001b[38;5;241m=\u001b[39m model\n\u001b[0;32m      6\u001b[0m \u001b[38;5;28;01mif\u001b[39;00m model \u001b[38;5;241m==\u001b[39m \u001b[38;5;124m'\u001b[39m\u001b[38;5;124mlite\u001b[39m\u001b[38;5;124m'\u001b[39m:\n\u001b[1;32m----> 7\u001b[0m     \u001b[38;5;28;43mself\u001b[39;49m\u001b[38;5;241;43m.\u001b[39;49m\u001b[43mbase_storage\u001b[49m \u001b[38;5;241m=\u001b[39m \u001b[38;5;241m32\u001b[39m\n\u001b[0;32m      8\u001b[0m     \u001b[38;5;28mself\u001b[39m\u001b[38;5;241m.\u001b[39madded_storage \u001b[38;5;241m=\u001b[39m \u001b[38;5;241m0\u001b[39m\n\u001b[0;32m      9\u001b[0m     \u001b[38;5;28mself\u001b[39m\u001b[38;5;241m.\u001b[39mmemory \u001b[38;5;241m=\u001b[39m \u001b[38;5;241m2\u001b[39m\n",
      "\u001b[1;31mAttributeError\u001b[0m: can't set attribute 'base_storage'"
     ]
    }
   ],
   "source": [
    "# Creating instances\n",
    "c1 = Tablet('lite')\n",
    "c2 = Tablet('pro')\n",
    "c3 = Tablet('max')\n",
    "\n"
   ]
  },
  {
   "cell_type": "code",
   "execution_count": 32,
   "metadata": {},
   "outputs": [
    {
     "ename": "ValueError",
     "evalue": "Memory exceeds",
     "output_type": "error",
     "traceback": [
      "\u001b[1;31m---------------------------------------------------------------------------\u001b[0m",
      "\u001b[1;31mValueError\u001b[0m                                Traceback (most recent call last)",
      "Cell \u001b[1;32mIn[32], line 2\u001b[0m\n\u001b[0;32m      1\u001b[0m \u001b[38;5;66;03m# Adding storage using added_storage1 method\u001b[39;00m\n\u001b[1;32m----> 2\u001b[0m \u001b[43mc1\u001b[49m\u001b[38;5;241;43m.\u001b[39;49m\u001b[43madded_storage1\u001b[49m\u001b[43m(\u001b[49m\u001b[38;5;241;43m32332\u001b[39;49m\u001b[43m)\u001b[49m\n\u001b[0;32m      3\u001b[0m \u001b[38;5;28mprint\u001b[39m(\u001b[38;5;124mf\u001b[39m\u001b[38;5;124m\"\u001b[39m\u001b[38;5;124mc1\u001b[39m\u001b[38;5;124m'\u001b[39m\u001b[38;5;124ms total storage after added_storage1: \u001b[39m\u001b[38;5;132;01m{\u001b[39;00mc1\u001b[38;5;241m.\u001b[39mstorage\u001b[38;5;132;01m}\u001b[39;00m\u001b[38;5;124m\"\u001b[39m)\n\u001b[0;32m      5\u001b[0m \u001b[38;5;66;03m# Adding storage using the storage setter\u001b[39;00m\n",
      "Cell \u001b[1;32mIn[27], line 23\u001b[0m, in \u001b[0;36mTablet.added_storage1\u001b[1;34m(self, value)\u001b[0m\n\u001b[0;32m     21\u001b[0m \u001b[38;5;28;01mdef\u001b[39;00m \u001b[38;5;21madded_storage1\u001b[39m(\u001b[38;5;28mself\u001b[39m, value):\n\u001b[0;32m     22\u001b[0m     \u001b[38;5;28;01mif\u001b[39;00m \u001b[38;5;28mself\u001b[39m\u001b[38;5;241m.\u001b[39mbase_storage \u001b[38;5;241m+\u001b[39m value \u001b[38;5;241m>\u001b[39m \u001b[38;5;28mself\u001b[39m\u001b[38;5;241m.\u001b[39mMAX_MEMORY:\n\u001b[1;32m---> 23\u001b[0m         \u001b[38;5;28;01mraise\u001b[39;00m \u001b[38;5;167;01mValueError\u001b[39;00m(\u001b[38;5;124m\"\u001b[39m\u001b[38;5;124mMemory exceeds\u001b[39m\u001b[38;5;124m\"\u001b[39m)\n\u001b[0;32m     24\u001b[0m     \u001b[38;5;28mself\u001b[39m\u001b[38;5;241m.\u001b[39madded_storage \u001b[38;5;241m+\u001b[39m\u001b[38;5;241m=\u001b[39m value\n",
      "\u001b[1;31mValueError\u001b[0m: Memory exceeds"
     ]
    }
   ],
   "source": [
    "# Adding storage using added_storage1 method\n",
    "c1.added_storage1(32332)\n",
    "print(f\"c1's total storage after added_storage1: {c1.storage}\")\n",
    "\n",
    "# Adding storage using the storage setter\n",
    "c1.storage = 64\n",
    "print(f\"c1's total storage after setting storage directly: {c1.storage}\")"
   ]
  },
  {
   "cell_type": "code",
   "execution_count": 19,
   "metadata": {},
   "outputs": [],
   "source": [
    "c1.added_storage1 = 34"
   ]
  },
  {
   "cell_type": "code",
   "execution_count": 20,
   "metadata": {},
   "outputs": [
    {
     "data": {
      "text/plain": [
       "0"
      ]
     },
     "execution_count": 20,
     "metadata": {},
     "output_type": "execute_result"
    }
   ],
   "source": [
    "c1.added_storage"
   ]
  },
  {
   "cell_type": "code",
   "execution_count": 35,
   "metadata": {},
   "outputs": [
    {
     "name": "stdout",
     "output_type": "stream",
     "text": [
      "c1's total storage after added_storage1: 64\n",
      "c1's total storage after setting storage directly: 64\n",
      "Memory exceeds the maximum allowed limit\n",
      "c1's base storage: 32\n",
      "c1's memory: 2\n"
     ]
    }
   ],
   "source": [
    "class Tablet:\n",
    "    MAX_MEMORY = 1024\n",
    "\n",
    "    def __init__(self, model):\n",
    "        self._model = model\n",
    "\n",
    "        if model == 'lite':\n",
    "            self._base_storage = 32\n",
    "            self.added_storage = 0\n",
    "            self._memory = 2\n",
    "        elif model == 'pro':\n",
    "            self._base_storage = 64\n",
    "            self.added_storage = 0\n",
    "            self._memory = 3\n",
    "        elif model == 'max':\n",
    "            self._base_storage = 128\n",
    "            self.added_storage = 0\n",
    "            self._memory = 4\n",
    "        else:\n",
    "            raise ValueError(\"Select the right model of the tablet\")\n",
    "\n",
    "    @property\n",
    "    def base_storage(self):\n",
    "        return self._base_storage\n",
    "\n",
    "    @property\n",
    "    def memory(self):\n",
    "        return self._memory\n",
    "\n",
    "    def added_storage1(self, value):\n",
    "        if self.base_storage + self.added_storage + value > self.MAX_MEMORY:\n",
    "            raise ValueError(\"Memory exceeds the maximum allowed limit\")\n",
    "        self.added_storage += value\n",
    "\n",
    "    @property\n",
    "    def storage(self):\n",
    "        return self.base_storage + self.added_storage\n",
    "\n",
    "    @storage.setter\n",
    "    def storage(self, value):\n",
    "        if value > self.MAX_MEMORY:\n",
    "            raise ValueError(\"Memory exceeds the maximum allowed limit\")\n",
    "        self.added_storage = value - self.base_storage\n"
   ]
  },
  {
   "cell_type": "code",
   "execution_count": null,
   "metadata": {},
   "outputs": [],
   "source": [
    "\n",
    "# Creating instances\n",
    "c1 = Tablet('lite')\n",
    "c2 = Tablet('pro')\n",
    "c3 = Tablet('max')\n",
    "\n",
    "# Adding storage using added_storage1 method\n",
    "c1.added_storage1(32)\n",
    "print(f\"c1's total storage after added_storage1: {c1.storage}\")\n",
    "\n",
    "# Adding storage using the storage setter\n",
    "c1.storage = 64\n",
    "print(f\"c1's total storage after setting storage directly: {c1.storage}\")\n",
    "\n",
    "# Attempt to exceed maximum memory\n",
    "try:\n",
    "    c1.storage = 2000\n",
    "except ValueError as e:\n",
    "    print(e)\n",
    "\n",
    "# Accessing read-only properties\n",
    "print(f\"c1's base storage: {c1.base_storage}\")\n",
    "print(f\"c1's memory: {c1.memory}\")\n"
   ]
  }
 ],
 "metadata": {
  "kernelspec": {
   "display_name": "Python 3",
   "language": "python",
   "name": "python3"
  },
  "language_info": {
   "codemirror_mode": {
    "name": "ipython",
    "version": 3
   },
   "file_extension": ".py",
   "mimetype": "text/x-python",
   "name": "python",
   "nbconvert_exporter": "python",
   "pygments_lexer": "ipython3",
   "version": "3.10.1"
  }
 },
 "nbformat": 4,
 "nbformat_minor": 2
}
